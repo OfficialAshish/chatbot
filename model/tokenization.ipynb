{
  "metadata": {
    "kernelspec": {
      "language": "python",
      "display_name": "Python 3",
      "name": "python3"
    },
    "language_info": {
      "name": "python",
      "version": "3.10.12",
      "mimetype": "text/x-python",
      "codemirror_mode": {
        "name": "ipython",
        "version": 3
      },
      "pygments_lexer": "ipython3",
      "nbconvert_exporter": "python",
      "file_extension": ".py"
    },
    "kaggle": {
      "accelerator": "nvidiaTeslaT4",
      "dataSources": [
        {
          "sourceId": 4429121,
          "sourceType": "datasetVersion",
          "datasetId": 2594075
        }
      ],
      "dockerImageVersionId": 30528,
      "isInternetEnabled": true,
      "language": "python",
      "sourceType": "notebook",
      "isGpuEnabled": true
    },
    "colab": {
      "provenance": []
    }
  },
  "nbformat_minor": 0,
  "nbformat": 4,
  "cells": [
    {
      "cell_type": "code",
      "source": [
        "\n",
        "import numpy as np\n",
        "import pandas as pd\n",
        "\n",
        "import tensorflow as tf\n",
        "import json\n",
        "import pickle\n",
        "import random\n",
        "import nltk\n",
        "from nltk.stem import WordNetLemmatizer\n",
        "\n",
        "nltk.download('punkt')\n",
        "nltk.download('wordnet')\n",
        "\n",
        "# import os\n",
        "# for dirname, _, filenames in os.walk('/kaggle/input'):\n",
        "#     for filename in filenames:\n",
        "#         print(os.path.join(dirname, filename))\n"
      ],
      "metadata": {
        "_uuid": "8f2839f25d086af736a60e9eeb907d3b93b6e0e5",
        "_cell_guid": "b1076dfc-b9ad-4769-8c92-a6c4dae69d19",
        "execution": {
          "iopub.status.busy": "2024-02-22T21:56:41.685858Z",
          "iopub.execute_input": "2024-02-22T21:56:41.686280Z",
          "iopub.status.idle": "2024-02-22T21:56:41.704949Z",
          "shell.execute_reply.started": "2024-02-22T21:56:41.686242Z",
          "shell.execute_reply": "2024-02-22T21:56:41.704066Z"
        },
        "trusted": true,
        "id": "-cXcwzscnc0E",
        "colab": {
          "base_uri": "https://localhost:8080/"
        },
        "outputId": "97618bd7-ee9d-4e23-f9a9-6004aecdd3dc"
      },
      "execution_count": 10,
      "outputs": [
        {
          "output_type": "stream",
          "name": "stderr",
          "text": [
            "[nltk_data] Downloading package punkt to /root/nltk_data...\n",
            "[nltk_data]   Unzipping tokenizers/punkt.zip.\n",
            "[nltk_data] Downloading package wordnet to /root/nltk_data...\n"
          ]
        },
        {
          "output_type": "execute_result",
          "data": {
            "text/plain": [
              "True"
            ]
          },
          "metadata": {},
          "execution_count": 10
        }
      ]
    },
    {
      "cell_type": "code",
      "source": [
        "!mkdir -p ~/.kaggle\n",
        "!cp kaggle.json ~/.kaggle/"
      ],
      "metadata": {
        "colab": {
          "base_uri": "https://localhost:8080/"
        },
        "id": "o2Nk_d3ixj-V",
        "outputId": "e93538b8-c13b-43db-945a-85c56272294a"
      },
      "execution_count": 1,
      "outputs": [
        {
          "output_type": "stream",
          "name": "stdout",
          "text": [
            "cp: cannot stat 'kaggle.json': No such file or directory\n"
          ]
        }
      ]
    },
    {
      "cell_type": "code",
      "source": [
        "!kaggle datasets download -d elvis23/mental-health-conversational-data"
      ],
      "metadata": {
        "colab": {
          "base_uri": "https://localhost:8080/"
        },
        "id": "zphnQmWbxtzE",
        "outputId": "bb5c84ce-8b5d-4ee7-b411-cbd5ff6e2360"
      },
      "execution_count": 3,
      "outputs": [
        {
          "output_type": "stream",
          "name": "stdout",
          "text": [
            "Dataset URL: https://www.kaggle.com/datasets/elvis23/mental-health-conversational-data\n",
            "License(s): copyright-authors\n",
            "Downloading mental-health-conversational-data.zip to /content\n",
            "  0% 0.00/11.8k [00:00<?, ?B/s]\n",
            "100% 11.8k/11.8k [00:00<00:00, 13.7MB/s]\n"
          ]
        }
      ]
    },
    {
      "cell_type": "code",
      "source": [
        "# prompt: mount the drive\n",
        "\n",
        "from google.colab import drive\n",
        "drive.mount('/content/drive')\n"
      ],
      "metadata": {
        "colab": {
          "base_uri": "https://localhost:8080/"
        },
        "id": "nhA-dd3qxyGk",
        "outputId": "33ca9cf3-4bda-4a7a-dcac-5889db4b45b5"
      },
      "execution_count": 4,
      "outputs": [
        {
          "output_type": "stream",
          "name": "stdout",
          "text": [
            "Mounted at /content/drive\n"
          ]
        }
      ]
    },
    {
      "cell_type": "code",
      "source": [
        "\n",
        "import zipfile\n",
        "zip = zipfile.ZipFile(\"/content/mental-health-conversational-data.zip\",'r')\n",
        "zip.extractall(\"/content\")\n",
        "zip.close()"
      ],
      "metadata": {
        "id": "b85F3qkwx-xT"
      },
      "execution_count": 8,
      "outputs": []
    },
    {
      "cell_type": "code",
      "source": [
        "import json\n",
        "\n",
        "with open('/content/intents.json', 'r') as f:\n",
        "    data = json.load(f)\n",
        "\n",
        "df = pd.json_normalize(data['intents'])\n"
      ],
      "metadata": {
        "execution": {
          "iopub.status.busy": "2024-02-22T21:56:41.706552Z",
          "iopub.execute_input": "2024-02-22T21:56:41.706813Z",
          "iopub.status.idle": "2024-02-22T21:56:41.721741Z",
          "shell.execute_reply.started": "2024-02-22T21:56:41.706789Z",
          "shell.execute_reply": "2024-02-22T21:56:41.720933Z"
        },
        "trusted": true,
        "id": "jlkmZ3W9nc0K"
      },
      "execution_count": 11,
      "outputs": []
    },
    {
      "cell_type": "code",
      "source": [
        "pd.options.display.max_colwidth=None\n",
        "df.head()"
      ],
      "metadata": {
        "execution": {
          "iopub.status.busy": "2024-02-22T21:56:41.722726Z",
          "iopub.execute_input": "2024-02-22T21:56:41.723078Z",
          "iopub.status.idle": "2024-02-22T21:56:41.743601Z",
          "shell.execute_reply.started": "2024-02-22T21:56:41.723046Z",
          "shell.execute_reply": "2024-02-22T21:56:41.742758Z"
        },
        "trusted": true,
        "id": "6rOKs-c_nc0L",
        "colab": {
          "base_uri": "https://localhost:8080/",
          "height": 275
        },
        "outputId": "8a10c78e-c290-4162-c9fb-d23d71a10699"
      },
      "execution_count": 12,
      "outputs": [
        {
          "output_type": "execute_result",
          "data": {
            "text/plain": [
              "         tag  \\\n",
              "0   greeting   \n",
              "1    morning   \n",
              "2  afternoon   \n",
              "3    evening   \n",
              "4      night   \n",
              "\n",
              "                                                                                                    patterns  \\\n",
              "0  [Hi, Hey, Is anyone there?, Hi there, Hello, Hey there, Howdy, Hola, Bonjour, Konnichiwa, Guten tag, Ola]   \n",
              "1                                                                                             [Good morning]   \n",
              "2                                                                                           [Good afternoon]   \n",
              "3                                                                                             [Good evening]   \n",
              "4                                                                                               [Good night]   \n",
              "\n",
              "                                                                                                                                                                                                                                                      responses  \n",
              "0  [Hello there. Tell me how are you feeling today?, Hi there. What brings you here today?, Hi there. How are you feeling today?, Great to see you. How do you feel currently?, Hello there. Glad to see you're back. What's going on in your world right now?]  \n",
              "1                                                                                                                                                                              [Good morning. I hope you had a good night's sleep. How are you feeling today? ]  \n",
              "2                                                                                                                                                                                                                      [Good afternoon. How is your day going?]  \n",
              "3                                                                                                                                                                                                                        [Good evening. How has your day been?]  \n",
              "4                                                                                                                                                                                                [Good night. Get some proper sleep, Good night. Sweet dreams.]  "
            ],
            "text/html": [
              "\n",
              "  <div id=\"df-91c5810c-6b41-43cc-bc03-db6de1ee2f42\" class=\"colab-df-container\">\n",
              "    <div>\n",
              "<style scoped>\n",
              "    .dataframe tbody tr th:only-of-type {\n",
              "        vertical-align: middle;\n",
              "    }\n",
              "\n",
              "    .dataframe tbody tr th {\n",
              "        vertical-align: top;\n",
              "    }\n",
              "\n",
              "    .dataframe thead th {\n",
              "        text-align: right;\n",
              "    }\n",
              "</style>\n",
              "<table border=\"1\" class=\"dataframe\">\n",
              "  <thead>\n",
              "    <tr style=\"text-align: right;\">\n",
              "      <th></th>\n",
              "      <th>tag</th>\n",
              "      <th>patterns</th>\n",
              "      <th>responses</th>\n",
              "    </tr>\n",
              "  </thead>\n",
              "  <tbody>\n",
              "    <tr>\n",
              "      <th>0</th>\n",
              "      <td>greeting</td>\n",
              "      <td>[Hi, Hey, Is anyone there?, Hi there, Hello, Hey there, Howdy, Hola, Bonjour, Konnichiwa, Guten tag, Ola]</td>\n",
              "      <td>[Hello there. Tell me how are you feeling today?, Hi there. What brings you here today?, Hi there. How are you feeling today?, Great to see you. How do you feel currently?, Hello there. Glad to see you're back. What's going on in your world right now?]</td>\n",
              "    </tr>\n",
              "    <tr>\n",
              "      <th>1</th>\n",
              "      <td>morning</td>\n",
              "      <td>[Good morning]</td>\n",
              "      <td>[Good morning. I hope you had a good night's sleep. How are you feeling today? ]</td>\n",
              "    </tr>\n",
              "    <tr>\n",
              "      <th>2</th>\n",
              "      <td>afternoon</td>\n",
              "      <td>[Good afternoon]</td>\n",
              "      <td>[Good afternoon. How is your day going?]</td>\n",
              "    </tr>\n",
              "    <tr>\n",
              "      <th>3</th>\n",
              "      <td>evening</td>\n",
              "      <td>[Good evening]</td>\n",
              "      <td>[Good evening. How has your day been?]</td>\n",
              "    </tr>\n",
              "    <tr>\n",
              "      <th>4</th>\n",
              "      <td>night</td>\n",
              "      <td>[Good night]</td>\n",
              "      <td>[Good night. Get some proper sleep, Good night. Sweet dreams.]</td>\n",
              "    </tr>\n",
              "  </tbody>\n",
              "</table>\n",
              "</div>\n",
              "    <div class=\"colab-df-buttons\">\n",
              "\n",
              "  <div class=\"colab-df-container\">\n",
              "    <button class=\"colab-df-convert\" onclick=\"convertToInteractive('df-91c5810c-6b41-43cc-bc03-db6de1ee2f42')\"\n",
              "            title=\"Convert this dataframe to an interactive table.\"\n",
              "            style=\"display:none;\">\n",
              "\n",
              "  <svg xmlns=\"http://www.w3.org/2000/svg\" height=\"24px\" viewBox=\"0 -960 960 960\">\n",
              "    <path d=\"M120-120v-720h720v720H120Zm60-500h600v-160H180v160Zm220 220h160v-160H400v160Zm0 220h160v-160H400v160ZM180-400h160v-160H180v160Zm440 0h160v-160H620v160ZM180-180h160v-160H180v160Zm440 0h160v-160H620v160Z\"/>\n",
              "  </svg>\n",
              "    </button>\n",
              "\n",
              "  <style>\n",
              "    .colab-df-container {\n",
              "      display:flex;\n",
              "      gap: 12px;\n",
              "    }\n",
              "\n",
              "    .colab-df-convert {\n",
              "      background-color: #E8F0FE;\n",
              "      border: none;\n",
              "      border-radius: 50%;\n",
              "      cursor: pointer;\n",
              "      display: none;\n",
              "      fill: #1967D2;\n",
              "      height: 32px;\n",
              "      padding: 0 0 0 0;\n",
              "      width: 32px;\n",
              "    }\n",
              "\n",
              "    .colab-df-convert:hover {\n",
              "      background-color: #E2EBFA;\n",
              "      box-shadow: 0px 1px 2px rgba(60, 64, 67, 0.3), 0px 1px 3px 1px rgba(60, 64, 67, 0.15);\n",
              "      fill: #174EA6;\n",
              "    }\n",
              "\n",
              "    .colab-df-buttons div {\n",
              "      margin-bottom: 4px;\n",
              "    }\n",
              "\n",
              "    [theme=dark] .colab-df-convert {\n",
              "      background-color: #3B4455;\n",
              "      fill: #D2E3FC;\n",
              "    }\n",
              "\n",
              "    [theme=dark] .colab-df-convert:hover {\n",
              "      background-color: #434B5C;\n",
              "      box-shadow: 0px 1px 3px 1px rgba(0, 0, 0, 0.15);\n",
              "      filter: drop-shadow(0px 1px 2px rgba(0, 0, 0, 0.3));\n",
              "      fill: #FFFFFF;\n",
              "    }\n",
              "  </style>\n",
              "\n",
              "    <script>\n",
              "      const buttonEl =\n",
              "        document.querySelector('#df-91c5810c-6b41-43cc-bc03-db6de1ee2f42 button.colab-df-convert');\n",
              "      buttonEl.style.display =\n",
              "        google.colab.kernel.accessAllowed ? 'block' : 'none';\n",
              "\n",
              "      async function convertToInteractive(key) {\n",
              "        const element = document.querySelector('#df-91c5810c-6b41-43cc-bc03-db6de1ee2f42');\n",
              "        const dataTable =\n",
              "          await google.colab.kernel.invokeFunction('convertToInteractive',\n",
              "                                                    [key], {});\n",
              "        if (!dataTable) return;\n",
              "\n",
              "        const docLinkHtml = 'Like what you see? Visit the ' +\n",
              "          '<a target=\"_blank\" href=https://colab.research.google.com/notebooks/data_table.ipynb>data table notebook</a>'\n",
              "          + ' to learn more about interactive tables.';\n",
              "        element.innerHTML = '';\n",
              "        dataTable['output_type'] = 'display_data';\n",
              "        await google.colab.output.renderOutput(dataTable, element);\n",
              "        const docLink = document.createElement('div');\n",
              "        docLink.innerHTML = docLinkHtml;\n",
              "        element.appendChild(docLink);\n",
              "      }\n",
              "    </script>\n",
              "  </div>\n",
              "\n",
              "\n",
              "<div id=\"df-30b20a04-5407-41e6-a47c-e3f20c24b187\">\n",
              "  <button class=\"colab-df-quickchart\" onclick=\"quickchart('df-30b20a04-5407-41e6-a47c-e3f20c24b187')\"\n",
              "            title=\"Suggest charts\"\n",
              "            style=\"display:none;\">\n",
              "\n",
              "<svg xmlns=\"http://www.w3.org/2000/svg\" height=\"24px\"viewBox=\"0 0 24 24\"\n",
              "     width=\"24px\">\n",
              "    <g>\n",
              "        <path d=\"M19 3H5c-1.1 0-2 .9-2 2v14c0 1.1.9 2 2 2h14c1.1 0 2-.9 2-2V5c0-1.1-.9-2-2-2zM9 17H7v-7h2v7zm4 0h-2V7h2v10zm4 0h-2v-4h2v4z\"/>\n",
              "    </g>\n",
              "</svg>\n",
              "  </button>\n",
              "\n",
              "<style>\n",
              "  .colab-df-quickchart {\n",
              "      --bg-color: #E8F0FE;\n",
              "      --fill-color: #1967D2;\n",
              "      --hover-bg-color: #E2EBFA;\n",
              "      --hover-fill-color: #174EA6;\n",
              "      --disabled-fill-color: #AAA;\n",
              "      --disabled-bg-color: #DDD;\n",
              "  }\n",
              "\n",
              "  [theme=dark] .colab-df-quickchart {\n",
              "      --bg-color: #3B4455;\n",
              "      --fill-color: #D2E3FC;\n",
              "      --hover-bg-color: #434B5C;\n",
              "      --hover-fill-color: #FFFFFF;\n",
              "      --disabled-bg-color: #3B4455;\n",
              "      --disabled-fill-color: #666;\n",
              "  }\n",
              "\n",
              "  .colab-df-quickchart {\n",
              "    background-color: var(--bg-color);\n",
              "    border: none;\n",
              "    border-radius: 50%;\n",
              "    cursor: pointer;\n",
              "    display: none;\n",
              "    fill: var(--fill-color);\n",
              "    height: 32px;\n",
              "    padding: 0;\n",
              "    width: 32px;\n",
              "  }\n",
              "\n",
              "  .colab-df-quickchart:hover {\n",
              "    background-color: var(--hover-bg-color);\n",
              "    box-shadow: 0 1px 2px rgba(60, 64, 67, 0.3), 0 1px 3px 1px rgba(60, 64, 67, 0.15);\n",
              "    fill: var(--button-hover-fill-color);\n",
              "  }\n",
              "\n",
              "  .colab-df-quickchart-complete:disabled,\n",
              "  .colab-df-quickchart-complete:disabled:hover {\n",
              "    background-color: var(--disabled-bg-color);\n",
              "    fill: var(--disabled-fill-color);\n",
              "    box-shadow: none;\n",
              "  }\n",
              "\n",
              "  .colab-df-spinner {\n",
              "    border: 2px solid var(--fill-color);\n",
              "    border-color: transparent;\n",
              "    border-bottom-color: var(--fill-color);\n",
              "    animation:\n",
              "      spin 1s steps(1) infinite;\n",
              "  }\n",
              "\n",
              "  @keyframes spin {\n",
              "    0% {\n",
              "      border-color: transparent;\n",
              "      border-bottom-color: var(--fill-color);\n",
              "      border-left-color: var(--fill-color);\n",
              "    }\n",
              "    20% {\n",
              "      border-color: transparent;\n",
              "      border-left-color: var(--fill-color);\n",
              "      border-top-color: var(--fill-color);\n",
              "    }\n",
              "    30% {\n",
              "      border-color: transparent;\n",
              "      border-left-color: var(--fill-color);\n",
              "      border-top-color: var(--fill-color);\n",
              "      border-right-color: var(--fill-color);\n",
              "    }\n",
              "    40% {\n",
              "      border-color: transparent;\n",
              "      border-right-color: var(--fill-color);\n",
              "      border-top-color: var(--fill-color);\n",
              "    }\n",
              "    60% {\n",
              "      border-color: transparent;\n",
              "      border-right-color: var(--fill-color);\n",
              "    }\n",
              "    80% {\n",
              "      border-color: transparent;\n",
              "      border-right-color: var(--fill-color);\n",
              "      border-bottom-color: var(--fill-color);\n",
              "    }\n",
              "    90% {\n",
              "      border-color: transparent;\n",
              "      border-bottom-color: var(--fill-color);\n",
              "    }\n",
              "  }\n",
              "</style>\n",
              "\n",
              "  <script>\n",
              "    async function quickchart(key) {\n",
              "      const quickchartButtonEl =\n",
              "        document.querySelector('#' + key + ' button');\n",
              "      quickchartButtonEl.disabled = true;  // To prevent multiple clicks.\n",
              "      quickchartButtonEl.classList.add('colab-df-spinner');\n",
              "      try {\n",
              "        const charts = await google.colab.kernel.invokeFunction(\n",
              "            'suggestCharts', [key], {});\n",
              "      } catch (error) {\n",
              "        console.error('Error during call to suggestCharts:', error);\n",
              "      }\n",
              "      quickchartButtonEl.classList.remove('colab-df-spinner');\n",
              "      quickchartButtonEl.classList.add('colab-df-quickchart-complete');\n",
              "    }\n",
              "    (() => {\n",
              "      let quickchartButtonEl =\n",
              "        document.querySelector('#df-30b20a04-5407-41e6-a47c-e3f20c24b187 button');\n",
              "      quickchartButtonEl.style.display =\n",
              "        google.colab.kernel.accessAllowed ? 'block' : 'none';\n",
              "    })();\n",
              "  </script>\n",
              "</div>\n",
              "\n",
              "    </div>\n",
              "  </div>\n"
            ],
            "application/vnd.google.colaboratory.intrinsic+json": {
              "type": "dataframe",
              "variable_name": "df",
              "summary": "{\n  \"name\": \"df\",\n  \"rows\": 80,\n  \"fields\": [\n    {\n      \"column\": \"tag\",\n      \"properties\": {\n        \"dtype\": \"string\",\n        \"num_unique_values\": 80,\n        \"samples\": [\n          \"default\",\n          \"greeting\",\n          \"sleep\"\n        ],\n        \"semantic_type\": \"\",\n        \"description\": \"\"\n      }\n    },\n    {\n      \"column\": \"patterns\",\n      \"properties\": {\n        \"dtype\": \"object\",\n        \"semantic_type\": \"\",\n        \"description\": \"\"\n      }\n    },\n    {\n      \"column\": \"responses\",\n      \"properties\": {\n        \"dtype\": \"object\",\n        \"semantic_type\": \"\",\n        \"description\": \"\"\n      }\n    }\n  ]\n}"
            }
          },
          "metadata": {},
          "execution_count": 12
        }
      ]
    },
    {
      "cell_type": "code",
      "source": [
        "dic = {\"tag\":[], \"patterns\":[], \"responses\":[]}\n",
        "for example in data['intents']:\n",
        "    for pattern in example['patterns']:\n",
        "        dic['patterns'].append(pattern)\n",
        "        dic['tag'].append(example['tag'])\n",
        "        dic['responses'].append(example['responses'])"
      ],
      "metadata": {
        "execution": {
          "iopub.status.busy": "2024-02-22T21:56:41.744788Z",
          "iopub.execute_input": "2024-02-22T21:56:41.745181Z",
          "iopub.status.idle": "2024-02-22T21:56:41.750982Z",
          "shell.execute_reply.started": "2024-02-22T21:56:41.745146Z",
          "shell.execute_reply": "2024-02-22T21:56:41.749991Z"
        },
        "trusted": true,
        "id": "VfPJ33Jcnc0L"
      },
      "execution_count": 13,
      "outputs": []
    },
    {
      "cell_type": "code",
      "source": [
        "# pd.options.display.max_rows=15\n",
        "# pd.DataFrame([[labels,patterns]])"
      ],
      "metadata": {
        "execution": {
          "iopub.status.busy": "2024-02-22T21:56:41.753537Z",
          "iopub.execute_input": "2024-02-22T21:56:41.753884Z",
          "iopub.status.idle": "2024-02-22T21:56:41.760908Z",
          "shell.execute_reply.started": "2024-02-22T21:56:41.753859Z",
          "shell.execute_reply": "2024-02-22T21:56:41.760068Z"
        },
        "trusted": true,
        "id": "EHO3VjGInc0M"
      },
      "execution_count": 15,
      "outputs": []
    },
    {
      "cell_type": "code",
      "source": [
        "# pd.options.display.max_colwidth=15\n",
        "df = pd.DataFrame.from_dict(dic)\n",
        "df"
      ],
      "metadata": {
        "execution": {
          "iopub.status.busy": "2024-02-22T21:56:41.762084Z",
          "iopub.execute_input": "2024-02-22T21:56:41.762438Z",
          "iopub.status.idle": "2024-02-22T21:56:41.783980Z",
          "shell.execute_reply.started": "2024-02-22T21:56:41.762405Z",
          "shell.execute_reply": "2024-02-22T21:56:41.782925Z"
        },
        "trusted": true,
        "id": "BZbKW8b0nc0M",
        "outputId": "9bbd3bc2-a7e8-40be-9742-c4203e99d63b",
        "colab": {
          "base_uri": "https://localhost:8080/",
          "height": 1000
        }
      },
      "execution_count": 16,
      "outputs": [
        {
          "output_type": "execute_result",
          "data": {
            "text/plain": [
              "          tag                                                       patterns  \\\n",
              "0    greeting                                                             Hi   \n",
              "1    greeting                                                            Hey   \n",
              "2    greeting                                               Is anyone there?   \n",
              "3    greeting                                                       Hi there   \n",
              "4    greeting                                                          Hello   \n",
              "..        ...                                                            ...   \n",
              "227   fact-29                                   How do I know if I'm unwell?   \n",
              "228   fact-30  How can I maintain social connections? What if I feel lonely?   \n",
              "229   fact-31              What's the difference between anxiety and stress?   \n",
              "230   fact-32          What's the difference between sadness and depression?   \n",
              "231   fact-32                      difference between sadness and depression   \n",
              "\n",
              "                                                                                                                                                                                                                                                                                                                                                                                                                                                                                                                                                                                                                                                                                                                                                                                                                                                                                                                                                                                                                                                                                                                                                                                                                                                                                                                                                                                                                                                                                                                                                                                                                                                                                                                                                                                                                                                                                                                                                                                                                                                                                                                  responses  \n",
              "0                                                                                                                                                                                                                                                                                                                                                                                                                                                                                                                                                                                                                                                                                                                                                                                                                                                                                                                                                                                                                                                                                                                                                                                                                                                                                                                                                                                                                                                                                                                                                                                                                                                                                                                                                                                                                                                              [Hello there. Tell me how are you feeling today?, Hi there. What brings you here today?, Hi there. How are you feeling today?, Great to see you. How do you feel currently?, Hello there. Glad to see you're back. What's going on in your world right now?]  \n",
              "1                                                                                                                                                                                                                                                                                                                                                                                                                                                                                                                                                                                                                                                                                                                                                                                                                                                                                                                                                                                                                                                                                                                                                                                                                                                                                                                                                                                                                                                                                                                                                                                                                                                                                                                                                                                                                                                              [Hello there. Tell me how are you feeling today?, Hi there. What brings you here today?, Hi there. How are you feeling today?, Great to see you. How do you feel currently?, Hello there. Glad to see you're back. What's going on in your world right now?]  \n",
              "2                                                                                                                                                                                                                                                                                                                                                                                                                                                                                                                                                                                                                                                                                                                                                                                                                                                                                                                                                                                                                                                                                                                                                                                                                                                                                                                                                                                                                                                                                                                                                                                                                                                                                                                                                                                                                                                              [Hello there. Tell me how are you feeling today?, Hi there. What brings you here today?, Hi there. How are you feeling today?, Great to see you. How do you feel currently?, Hello there. Glad to see you're back. What's going on in your world right now?]  \n",
              "3                                                                                                                                                                                                                                                                                                                                                                                                                                                                                                                                                                                                                                                                                                                                                                                                                                                                                                                                                                                                                                                                                                                                                                                                                                                                                                                                                                                                                                                                                                                                                                                                                                                                                                                                                                                                                                                              [Hello there. Tell me how are you feeling today?, Hi there. What brings you here today?, Hi there. How are you feeling today?, Great to see you. How do you feel currently?, Hello there. Glad to see you're back. What's going on in your world right now?]  \n",
              "4                                                                                                                                                                                                                                                                                                                                                                                                                                                                                                                                                                                                                                                                                                                                                                                                                                                                                                                                                                                                                                                                                                                                                                                                                                                                                                                                                                                                                                                                                                                                                                                                                                                                                                                                                                                                                                                              [Hello there. Tell me how are you feeling today?, Hi there. What brings you here today?, Hi there. How are you feeling today?, Great to see you. How do you feel currently?, Hello there. Glad to see you're back. What's going on in your world right now?]  \n",
              "..                                                                                                                                                                                                                                                                                                                                                                                                                                                                                                                                                                                                                                                                                                                                                                                                                                                                                                                                                                                                                                                                                                                                                                                                                                                                                                                                                                                                                                                                                                                                                                                                                                                                                                                                                                                                                                                                                                                                                                                                                                                                                                                      ...  \n",
              "227                                                                                                                                                                                                                                                                                                                                                                                                                                                                                                                                                                                                                                                                                                                                                                                                                                                                                                                                                                                                                                                                                                                                                                                                                                                                                                                                                                                                                                                                                                                                                                                                                                                                                                                                                                                                                                                                                                                   [If your beliefs , thoughts , feelings or behaviours have a significant impact on your ability to function in what might be considered a normal or ordinary way, it would be important to seek help.]  \n",
              "228  [A lot of people are alone right now, but we don't have to be lonely. We're all in this together. Think about the different ways to connect that are most meaningful for you. For example, you might prefer a video chat over a phone call, or you might prefer to text throughout the day rather than one set time for a video call. Then, work with your social networks to make a plan. You might video chat with your close friends in the evening and phone a family member once a week. Remember to be mindful of people who may not be online. Check in by phone and ask how you can help. The quality of your social connections matter. Mindlessly scrolling through social media and liking a few posts usually doesn't build strong social connections. Make sure you focus on strategies that actually make you feel included and connected. If your current strategies don't help you feel connected, problem-solve to see if you can find a solution. Everyone feels lonely at times. Maybe you recently moved to a new city, are changing your circle of friends, lost someone important in your life, or lost your job and also lost important social connections with coworkers. Other people may have physical connections to others but may feel like their emotional or social needs aren't met. Measures like social distancing or self-isolation can make loneliness feel worse no matter why you feel lonely now. Reach out to the connections you do have. Suggest ways to keep in touch and see if you can set a regular time to connect. People may hesitate to reach out for a lot of different reasons, so don't be afraid to be the one who asks. Look for local community support groups and mutual aid groups on social media. This pandemic is bringing everyone together, so look for opportunities to make new connections. These groups are a great way to share your skills and abilities or seek help and support. Look for specialized support groups. Support groups are moving online, and there are a lot of different support lines to call if you need to talk to someone.]  \n",
              "229                                                                                                                                                                                                                                                                                                                                                                                                                                                                                                                                                                                                                                                                                                                                                                                                                                                                                                                                                                                                                                                                                                                                                                                                 [Stress and anxiety are often used interchangeably, and there is overlap between stress and anxiety. Stress is related to the same fight, flight, or freeze response as anxiety, and the physical sensations of anxiety and stress may be very similar. The cause of stress and anxiety are usually different, however. Stress focuses on mainly external pressures on us that we're finding hard to cope with. When we are stressed, we usually know what we're stressed about, and the symptoms of stress typically disappear after the stressful situation is over. Anxiety, on the other hand, isn't always as easy to figure out. Anxiety focuses on worries or fears about things that could threaten us, as well as anxiety about the anxiety itself. Stress and anxiety are both part of being human, but both can be problems if they last for a long time or have an impact on our well-being or daily life.]  \n",
              "230                                                                                                                                                                                                                                                                                                                                                                                                                                                    [Sadness is a normal reaction to a loss, disappointment, problems, or other difficult situations. Feeling sad from time to time is just another part of being human. In these cases, feelings of sadness go away quickly and you can go about your daily life. Other ways to talk about sadness might be feeling low, feeling down, or feeling blue.A person may say they are feeling depressed, but if it goes away on its own and doesn't impact life in a big way, it probably isn't the illness of depression. Depression is a mental illness that affects your mood, the way you understand yourself, and the way you understand and relate to things around you. It can also go by different names, such as clinical depression, major depressive disorder, or major depression. Depression can come up for no reason, and it lasts for a long time. It's much more than sadness or low mood. People who experience depression may feel worthless or hopeless. They may feel unreasonable guilty. Some people may experience depression as anger or irritability. It may be hard to concentrate or make decisions. Most people lose interest in things that they used to enjoy and may isolate themselves from others. There are also physical signs of depression, such as problems with sleep, appetite and energy and unexplainable aches or pains. Some may experience difficult thoughts about death or ending their life (suicide). Depression lasts longer than two weeks, doesn't usually go away on its own, and impacts your life. It's a real illness, and it is very treatable. It's important to seek help if you're concerned about depression.]  \n",
              "231                                                                                                                                                                                                                                                                                                                                                                                                                                                    [Sadness is a normal reaction to a loss, disappointment, problems, or other difficult situations. Feeling sad from time to time is just another part of being human. In these cases, feelings of sadness go away quickly and you can go about your daily life. Other ways to talk about sadness might be feeling low, feeling down, or feeling blue.A person may say they are feeling depressed, but if it goes away on its own and doesn't impact life in a big way, it probably isn't the illness of depression. Depression is a mental illness that affects your mood, the way you understand yourself, and the way you understand and relate to things around you. It can also go by different names, such as clinical depression, major depressive disorder, or major depression. Depression can come up for no reason, and it lasts for a long time. It's much more than sadness or low mood. People who experience depression may feel worthless or hopeless. They may feel unreasonable guilty. Some people may experience depression as anger or irritability. It may be hard to concentrate or make decisions. Most people lose interest in things that they used to enjoy and may isolate themselves from others. There are also physical signs of depression, such as problems with sleep, appetite and energy and unexplainable aches or pains. Some may experience difficult thoughts about death or ending their life (suicide). Depression lasts longer than two weeks, doesn't usually go away on its own, and impacts your life. It's a real illness, and it is very treatable. It's important to seek help if you're concerned about depression.]  \n",
              "\n",
              "[232 rows x 3 columns]"
            ],
            "text/html": [
              "\n",
              "  <div id=\"df-b6b2ebea-9ce4-4682-9c4e-3b322ea1a8c2\" class=\"colab-df-container\">\n",
              "    <div>\n",
              "<style scoped>\n",
              "    .dataframe tbody tr th:only-of-type {\n",
              "        vertical-align: middle;\n",
              "    }\n",
              "\n",
              "    .dataframe tbody tr th {\n",
              "        vertical-align: top;\n",
              "    }\n",
              "\n",
              "    .dataframe thead th {\n",
              "        text-align: right;\n",
              "    }\n",
              "</style>\n",
              "<table border=\"1\" class=\"dataframe\">\n",
              "  <thead>\n",
              "    <tr style=\"text-align: right;\">\n",
              "      <th></th>\n",
              "      <th>tag</th>\n",
              "      <th>patterns</th>\n",
              "      <th>responses</th>\n",
              "    </tr>\n",
              "  </thead>\n",
              "  <tbody>\n",
              "    <tr>\n",
              "      <th>0</th>\n",
              "      <td>greeting</td>\n",
              "      <td>Hi</td>\n",
              "      <td>[Hello there. Tell me how are you feeling today?, Hi there. What brings you here today?, Hi there. How are you feeling today?, Great to see you. How do you feel currently?, Hello there. Glad to see you're back. What's going on in your world right now?]</td>\n",
              "    </tr>\n",
              "    <tr>\n",
              "      <th>1</th>\n",
              "      <td>greeting</td>\n",
              "      <td>Hey</td>\n",
              "      <td>[Hello there. Tell me how are you feeling today?, Hi there. What brings you here today?, Hi there. How are you feeling today?, Great to see you. How do you feel currently?, Hello there. Glad to see you're back. What's going on in your world right now?]</td>\n",
              "    </tr>\n",
              "    <tr>\n",
              "      <th>2</th>\n",
              "      <td>greeting</td>\n",
              "      <td>Is anyone there?</td>\n",
              "      <td>[Hello there. Tell me how are you feeling today?, Hi there. What brings you here today?, Hi there. How are you feeling today?, Great to see you. How do you feel currently?, Hello there. Glad to see you're back. What's going on in your world right now?]</td>\n",
              "    </tr>\n",
              "    <tr>\n",
              "      <th>3</th>\n",
              "      <td>greeting</td>\n",
              "      <td>Hi there</td>\n",
              "      <td>[Hello there. Tell me how are you feeling today?, Hi there. What brings you here today?, Hi there. How are you feeling today?, Great to see you. How do you feel currently?, Hello there. Glad to see you're back. What's going on in your world right now?]</td>\n",
              "    </tr>\n",
              "    <tr>\n",
              "      <th>4</th>\n",
              "      <td>greeting</td>\n",
              "      <td>Hello</td>\n",
              "      <td>[Hello there. Tell me how are you feeling today?, Hi there. What brings you here today?, Hi there. How are you feeling today?, Great to see you. How do you feel currently?, Hello there. Glad to see you're back. What's going on in your world right now?]</td>\n",
              "    </tr>\n",
              "    <tr>\n",
              "      <th>...</th>\n",
              "      <td>...</td>\n",
              "      <td>...</td>\n",
              "      <td>...</td>\n",
              "    </tr>\n",
              "    <tr>\n",
              "      <th>227</th>\n",
              "      <td>fact-29</td>\n",
              "      <td>How do I know if I'm unwell?</td>\n",
              "      <td>[If your beliefs , thoughts , feelings or behaviours have a significant impact on your ability to function in what might be considered a normal or ordinary way, it would be important to seek help.]</td>\n",
              "    </tr>\n",
              "    <tr>\n",
              "      <th>228</th>\n",
              "      <td>fact-30</td>\n",
              "      <td>How can I maintain social connections? What if I feel lonely?</td>\n",
              "      <td>[A lot of people are alone right now, but we don't have to be lonely. We're all in this together. Think about the different ways to connect that are most meaningful for you. For example, you might prefer a video chat over a phone call, or you might prefer to text throughout the day rather than one set time for a video call. Then, work with your social networks to make a plan. You might video chat with your close friends in the evening and phone a family member once a week. Remember to be mindful of people who may not be online. Check in by phone and ask how you can help. The quality of your social connections matter. Mindlessly scrolling through social media and liking a few posts usually doesn't build strong social connections. Make sure you focus on strategies that actually make you feel included and connected. If your current strategies don't help you feel connected, problem-solve to see if you can find a solution. Everyone feels lonely at times. Maybe you recently moved to a new city, are changing your circle of friends, lost someone important in your life, or lost your job and also lost important social connections with coworkers. Other people may have physical connections to others but may feel like their emotional or social needs aren't met. Measures like social distancing or self-isolation can make loneliness feel worse no matter why you feel lonely now. Reach out to the connections you do have. Suggest ways to keep in touch and see if you can set a regular time to connect. People may hesitate to reach out for a lot of different reasons, so don't be afraid to be the one who asks. Look for local community support groups and mutual aid groups on social media. This pandemic is bringing everyone together, so look for opportunities to make new connections. These groups are a great way to share your skills and abilities or seek help and support. Look for specialized support groups. Support groups are moving online, and there are a lot of different support lines to call if you need to talk to someone.]</td>\n",
              "    </tr>\n",
              "    <tr>\n",
              "      <th>229</th>\n",
              "      <td>fact-31</td>\n",
              "      <td>What's the difference between anxiety and stress?</td>\n",
              "      <td>[Stress and anxiety are often used interchangeably, and there is overlap between stress and anxiety. Stress is related to the same fight, flight, or freeze response as anxiety, and the physical sensations of anxiety and stress may be very similar. The cause of stress and anxiety are usually different, however. Stress focuses on mainly external pressures on us that we're finding hard to cope with. When we are stressed, we usually know what we're stressed about, and the symptoms of stress typically disappear after the stressful situation is over. Anxiety, on the other hand, isn't always as easy to figure out. Anxiety focuses on worries or fears about things that could threaten us, as well as anxiety about the anxiety itself. Stress and anxiety are both part of being human, but both can be problems if they last for a long time or have an impact on our well-being or daily life.]</td>\n",
              "    </tr>\n",
              "    <tr>\n",
              "      <th>230</th>\n",
              "      <td>fact-32</td>\n",
              "      <td>What's the difference between sadness and depression?</td>\n",
              "      <td>[Sadness is a normal reaction to a loss, disappointment, problems, or other difficult situations. Feeling sad from time to time is just another part of being human. In these cases, feelings of sadness go away quickly and you can go about your daily life. Other ways to talk about sadness might be feeling low, feeling down, or feeling blue.A person may say they are feeling depressed, but if it goes away on its own and doesn't impact life in a big way, it probably isn't the illness of depression. Depression is a mental illness that affects your mood, the way you understand yourself, and the way you understand and relate to things around you. It can also go by different names, such as clinical depression, major depressive disorder, or major depression. Depression can come up for no reason, and it lasts for a long time. It's much more than sadness or low mood. People who experience depression may feel worthless or hopeless. They may feel unreasonable guilty. Some people may experience depression as anger or irritability. It may be hard to concentrate or make decisions. Most people lose interest in things that they used to enjoy and may isolate themselves from others. There are also physical signs of depression, such as problems with sleep, appetite and energy and unexplainable aches or pains. Some may experience difficult thoughts about death or ending their life (suicide). Depression lasts longer than two weeks, doesn't usually go away on its own, and impacts your life. It's a real illness, and it is very treatable. It's important to seek help if you're concerned about depression.]</td>\n",
              "    </tr>\n",
              "    <tr>\n",
              "      <th>231</th>\n",
              "      <td>fact-32</td>\n",
              "      <td>difference between sadness and depression</td>\n",
              "      <td>[Sadness is a normal reaction to a loss, disappointment, problems, or other difficult situations. Feeling sad from time to time is just another part of being human. In these cases, feelings of sadness go away quickly and you can go about your daily life. Other ways to talk about sadness might be feeling low, feeling down, or feeling blue.A person may say they are feeling depressed, but if it goes away on its own and doesn't impact life in a big way, it probably isn't the illness of depression. Depression is a mental illness that affects your mood, the way you understand yourself, and the way you understand and relate to things around you. It can also go by different names, such as clinical depression, major depressive disorder, or major depression. Depression can come up for no reason, and it lasts for a long time. It's much more than sadness or low mood. People who experience depression may feel worthless or hopeless. They may feel unreasonable guilty. Some people may experience depression as anger or irritability. It may be hard to concentrate or make decisions. Most people lose interest in things that they used to enjoy and may isolate themselves from others. There are also physical signs of depression, such as problems with sleep, appetite and energy and unexplainable aches or pains. Some may experience difficult thoughts about death or ending their life (suicide). Depression lasts longer than two weeks, doesn't usually go away on its own, and impacts your life. It's a real illness, and it is very treatable. It's important to seek help if you're concerned about depression.]</td>\n",
              "    </tr>\n",
              "  </tbody>\n",
              "</table>\n",
              "<p>232 rows × 3 columns</p>\n",
              "</div>\n",
              "    <div class=\"colab-df-buttons\">\n",
              "\n",
              "  <div class=\"colab-df-container\">\n",
              "    <button class=\"colab-df-convert\" onclick=\"convertToInteractive('df-b6b2ebea-9ce4-4682-9c4e-3b322ea1a8c2')\"\n",
              "            title=\"Convert this dataframe to an interactive table.\"\n",
              "            style=\"display:none;\">\n",
              "\n",
              "  <svg xmlns=\"http://www.w3.org/2000/svg\" height=\"24px\" viewBox=\"0 -960 960 960\">\n",
              "    <path d=\"M120-120v-720h720v720H120Zm60-500h600v-160H180v160Zm220 220h160v-160H400v160Zm0 220h160v-160H400v160ZM180-400h160v-160H180v160Zm440 0h160v-160H620v160ZM180-180h160v-160H180v160Zm440 0h160v-160H620v160Z\"/>\n",
              "  </svg>\n",
              "    </button>\n",
              "\n",
              "  <style>\n",
              "    .colab-df-container {\n",
              "      display:flex;\n",
              "      gap: 12px;\n",
              "    }\n",
              "\n",
              "    .colab-df-convert {\n",
              "      background-color: #E8F0FE;\n",
              "      border: none;\n",
              "      border-radius: 50%;\n",
              "      cursor: pointer;\n",
              "      display: none;\n",
              "      fill: #1967D2;\n",
              "      height: 32px;\n",
              "      padding: 0 0 0 0;\n",
              "      width: 32px;\n",
              "    }\n",
              "\n",
              "    .colab-df-convert:hover {\n",
              "      background-color: #E2EBFA;\n",
              "      box-shadow: 0px 1px 2px rgba(60, 64, 67, 0.3), 0px 1px 3px 1px rgba(60, 64, 67, 0.15);\n",
              "      fill: #174EA6;\n",
              "    }\n",
              "\n",
              "    .colab-df-buttons div {\n",
              "      margin-bottom: 4px;\n",
              "    }\n",
              "\n",
              "    [theme=dark] .colab-df-convert {\n",
              "      background-color: #3B4455;\n",
              "      fill: #D2E3FC;\n",
              "    }\n",
              "\n",
              "    [theme=dark] .colab-df-convert:hover {\n",
              "      background-color: #434B5C;\n",
              "      box-shadow: 0px 1px 3px 1px rgba(0, 0, 0, 0.15);\n",
              "      filter: drop-shadow(0px 1px 2px rgba(0, 0, 0, 0.3));\n",
              "      fill: #FFFFFF;\n",
              "    }\n",
              "  </style>\n",
              "\n",
              "    <script>\n",
              "      const buttonEl =\n",
              "        document.querySelector('#df-b6b2ebea-9ce4-4682-9c4e-3b322ea1a8c2 button.colab-df-convert');\n",
              "      buttonEl.style.display =\n",
              "        google.colab.kernel.accessAllowed ? 'block' : 'none';\n",
              "\n",
              "      async function convertToInteractive(key) {\n",
              "        const element = document.querySelector('#df-b6b2ebea-9ce4-4682-9c4e-3b322ea1a8c2');\n",
              "        const dataTable =\n",
              "          await google.colab.kernel.invokeFunction('convertToInteractive',\n",
              "                                                    [key], {});\n",
              "        if (!dataTable) return;\n",
              "\n",
              "        const docLinkHtml = 'Like what you see? Visit the ' +\n",
              "          '<a target=\"_blank\" href=https://colab.research.google.com/notebooks/data_table.ipynb>data table notebook</a>'\n",
              "          + ' to learn more about interactive tables.';\n",
              "        element.innerHTML = '';\n",
              "        dataTable['output_type'] = 'display_data';\n",
              "        await google.colab.output.renderOutput(dataTable, element);\n",
              "        const docLink = document.createElement('div');\n",
              "        docLink.innerHTML = docLinkHtml;\n",
              "        element.appendChild(docLink);\n",
              "      }\n",
              "    </script>\n",
              "  </div>\n",
              "\n",
              "\n",
              "<div id=\"df-f20cff32-f48e-44bc-9ce8-b20646e643ae\">\n",
              "  <button class=\"colab-df-quickchart\" onclick=\"quickchart('df-f20cff32-f48e-44bc-9ce8-b20646e643ae')\"\n",
              "            title=\"Suggest charts\"\n",
              "            style=\"display:none;\">\n",
              "\n",
              "<svg xmlns=\"http://www.w3.org/2000/svg\" height=\"24px\"viewBox=\"0 0 24 24\"\n",
              "     width=\"24px\">\n",
              "    <g>\n",
              "        <path d=\"M19 3H5c-1.1 0-2 .9-2 2v14c0 1.1.9 2 2 2h14c1.1 0 2-.9 2-2V5c0-1.1-.9-2-2-2zM9 17H7v-7h2v7zm4 0h-2V7h2v10zm4 0h-2v-4h2v4z\"/>\n",
              "    </g>\n",
              "</svg>\n",
              "  </button>\n",
              "\n",
              "<style>\n",
              "  .colab-df-quickchart {\n",
              "      --bg-color: #E8F0FE;\n",
              "      --fill-color: #1967D2;\n",
              "      --hover-bg-color: #E2EBFA;\n",
              "      --hover-fill-color: #174EA6;\n",
              "      --disabled-fill-color: #AAA;\n",
              "      --disabled-bg-color: #DDD;\n",
              "  }\n",
              "\n",
              "  [theme=dark] .colab-df-quickchart {\n",
              "      --bg-color: #3B4455;\n",
              "      --fill-color: #D2E3FC;\n",
              "      --hover-bg-color: #434B5C;\n",
              "      --hover-fill-color: #FFFFFF;\n",
              "      --disabled-bg-color: #3B4455;\n",
              "      --disabled-fill-color: #666;\n",
              "  }\n",
              "\n",
              "  .colab-df-quickchart {\n",
              "    background-color: var(--bg-color);\n",
              "    border: none;\n",
              "    border-radius: 50%;\n",
              "    cursor: pointer;\n",
              "    display: none;\n",
              "    fill: var(--fill-color);\n",
              "    height: 32px;\n",
              "    padding: 0;\n",
              "    width: 32px;\n",
              "  }\n",
              "\n",
              "  .colab-df-quickchart:hover {\n",
              "    background-color: var(--hover-bg-color);\n",
              "    box-shadow: 0 1px 2px rgba(60, 64, 67, 0.3), 0 1px 3px 1px rgba(60, 64, 67, 0.15);\n",
              "    fill: var(--button-hover-fill-color);\n",
              "  }\n",
              "\n",
              "  .colab-df-quickchart-complete:disabled,\n",
              "  .colab-df-quickchart-complete:disabled:hover {\n",
              "    background-color: var(--disabled-bg-color);\n",
              "    fill: var(--disabled-fill-color);\n",
              "    box-shadow: none;\n",
              "  }\n",
              "\n",
              "  .colab-df-spinner {\n",
              "    border: 2px solid var(--fill-color);\n",
              "    border-color: transparent;\n",
              "    border-bottom-color: var(--fill-color);\n",
              "    animation:\n",
              "      spin 1s steps(1) infinite;\n",
              "  }\n",
              "\n",
              "  @keyframes spin {\n",
              "    0% {\n",
              "      border-color: transparent;\n",
              "      border-bottom-color: var(--fill-color);\n",
              "      border-left-color: var(--fill-color);\n",
              "    }\n",
              "    20% {\n",
              "      border-color: transparent;\n",
              "      border-left-color: var(--fill-color);\n",
              "      border-top-color: var(--fill-color);\n",
              "    }\n",
              "    30% {\n",
              "      border-color: transparent;\n",
              "      border-left-color: var(--fill-color);\n",
              "      border-top-color: var(--fill-color);\n",
              "      border-right-color: var(--fill-color);\n",
              "    }\n",
              "    40% {\n",
              "      border-color: transparent;\n",
              "      border-right-color: var(--fill-color);\n",
              "      border-top-color: var(--fill-color);\n",
              "    }\n",
              "    60% {\n",
              "      border-color: transparent;\n",
              "      border-right-color: var(--fill-color);\n",
              "    }\n",
              "    80% {\n",
              "      border-color: transparent;\n",
              "      border-right-color: var(--fill-color);\n",
              "      border-bottom-color: var(--fill-color);\n",
              "    }\n",
              "    90% {\n",
              "      border-color: transparent;\n",
              "      border-bottom-color: var(--fill-color);\n",
              "    }\n",
              "  }\n",
              "</style>\n",
              "\n",
              "  <script>\n",
              "    async function quickchart(key) {\n",
              "      const quickchartButtonEl =\n",
              "        document.querySelector('#' + key + ' button');\n",
              "      quickchartButtonEl.disabled = true;  // To prevent multiple clicks.\n",
              "      quickchartButtonEl.classList.add('colab-df-spinner');\n",
              "      try {\n",
              "        const charts = await google.colab.kernel.invokeFunction(\n",
              "            'suggestCharts', [key], {});\n",
              "      } catch (error) {\n",
              "        console.error('Error during call to suggestCharts:', error);\n",
              "      }\n",
              "      quickchartButtonEl.classList.remove('colab-df-spinner');\n",
              "      quickchartButtonEl.classList.add('colab-df-quickchart-complete');\n",
              "    }\n",
              "    (() => {\n",
              "      let quickchartButtonEl =\n",
              "        document.querySelector('#df-f20cff32-f48e-44bc-9ce8-b20646e643ae button');\n",
              "      quickchartButtonEl.style.display =\n",
              "        google.colab.kernel.accessAllowed ? 'block' : 'none';\n",
              "    })();\n",
              "  </script>\n",
              "</div>\n",
              "\n",
              "  <div id=\"id_fc6d4c37-5f72-441a-aac1-9f9d72aaf448\">\n",
              "    <style>\n",
              "      .colab-df-generate {\n",
              "        background-color: #E8F0FE;\n",
              "        border: none;\n",
              "        border-radius: 50%;\n",
              "        cursor: pointer;\n",
              "        display: none;\n",
              "        fill: #1967D2;\n",
              "        height: 32px;\n",
              "        padding: 0 0 0 0;\n",
              "        width: 32px;\n",
              "      }\n",
              "\n",
              "      .colab-df-generate:hover {\n",
              "        background-color: #E2EBFA;\n",
              "        box-shadow: 0px 1px 2px rgba(60, 64, 67, 0.3), 0px 1px 3px 1px rgba(60, 64, 67, 0.15);\n",
              "        fill: #174EA6;\n",
              "      }\n",
              "\n",
              "      [theme=dark] .colab-df-generate {\n",
              "        background-color: #3B4455;\n",
              "        fill: #D2E3FC;\n",
              "      }\n",
              "\n",
              "      [theme=dark] .colab-df-generate:hover {\n",
              "        background-color: #434B5C;\n",
              "        box-shadow: 0px 1px 3px 1px rgba(0, 0, 0, 0.15);\n",
              "        filter: drop-shadow(0px 1px 2px rgba(0, 0, 0, 0.3));\n",
              "        fill: #FFFFFF;\n",
              "      }\n",
              "    </style>\n",
              "    <button class=\"colab-df-generate\" onclick=\"generateWithVariable('df')\"\n",
              "            title=\"Generate code using this dataframe.\"\n",
              "            style=\"display:none;\">\n",
              "\n",
              "  <svg xmlns=\"http://www.w3.org/2000/svg\" height=\"24px\"viewBox=\"0 0 24 24\"\n",
              "       width=\"24px\">\n",
              "    <path d=\"M7,19H8.4L18.45,9,17,7.55,7,17.6ZM5,21V16.75L18.45,3.32a2,2,0,0,1,2.83,0l1.4,1.43a1.91,1.91,0,0,1,.58,1.4,1.91,1.91,0,0,1-.58,1.4L9.25,21ZM18.45,9,17,7.55Zm-12,3A5.31,5.31,0,0,0,4.9,8.1,5.31,5.31,0,0,0,1,6.5,5.31,5.31,0,0,0,4.9,4.9,5.31,5.31,0,0,0,6.5,1,5.31,5.31,0,0,0,8.1,4.9,5.31,5.31,0,0,0,12,6.5,5.46,5.46,0,0,0,6.5,12Z\"/>\n",
              "  </svg>\n",
              "    </button>\n",
              "    <script>\n",
              "      (() => {\n",
              "      const buttonEl =\n",
              "        document.querySelector('#id_fc6d4c37-5f72-441a-aac1-9f9d72aaf448 button.colab-df-generate');\n",
              "      buttonEl.style.display =\n",
              "        google.colab.kernel.accessAllowed ? 'block' : 'none';\n",
              "\n",
              "      buttonEl.onclick = () => {\n",
              "        google.colab.notebook.generateWithVariable('df');\n",
              "      }\n",
              "      })();\n",
              "    </script>\n",
              "  </div>\n",
              "\n",
              "    </div>\n",
              "  </div>\n"
            ],
            "application/vnd.google.colaboratory.intrinsic+json": {
              "type": "dataframe",
              "variable_name": "df",
              "summary": "{\n  \"name\": \"df\",\n  \"rows\": 232,\n  \"fields\": [\n    {\n      \"column\": \"tag\",\n      \"properties\": {\n        \"dtype\": \"category\",\n        \"num_unique_values\": 80,\n        \"samples\": [\n          \"default\",\n          \"greeting\",\n          \"sleep\"\n        ],\n        \"semantic_type\": \"\",\n        \"description\": \"\"\n      }\n    },\n    {\n      \"column\": \"patterns\",\n      \"properties\": {\n        \"dtype\": \"string\",\n        \"num_unique_values\": 231,\n        \"samples\": [\n          \"Where can I learn about types of mental health treatment?\",\n          \"I feel so worthless.\",\n          \"Konnichiwa\"\n        ],\n        \"semantic_type\": \"\",\n        \"description\": \"\"\n      }\n    },\n    {\n      \"column\": \"responses\",\n      \"properties\": {\n        \"dtype\": \"object\",\n        \"semantic_type\": \"\",\n        \"description\": \"\"\n      }\n    }\n  ]\n}"
            }
          },
          "metadata": {},
          "execution_count": 16
        }
      ]
    },
    {
      "cell_type": "code",
      "source": [
        "df['tag'].unique()"
      ],
      "metadata": {
        "execution": {
          "iopub.status.busy": "2024-02-22T21:56:41.784990Z",
          "iopub.execute_input": "2024-02-22T21:56:41.785297Z",
          "iopub.status.idle": "2024-02-22T21:56:41.799677Z",
          "shell.execute_reply.started": "2024-02-22T21:56:41.785272Z",
          "shell.execute_reply": "2024-02-22T21:56:41.798672Z"
        },
        "trusted": true,
        "id": "UfrhMuounc0M",
        "outputId": "ec665496-adb8-46f2-f545-6166f186bca4",
        "colab": {
          "base_uri": "https://localhost:8080/"
        }
      },
      "execution_count": 17,
      "outputs": [
        {
          "output_type": "execute_result",
          "data": {
            "text/plain": [
              "array(['greeting', 'morning', 'afternoon', 'evening', 'night', 'goodbye',\n",
              "       'thanks', 'no-response', 'neutral-response', 'about', 'skill',\n",
              "       'creation', 'name', 'help', 'sad', 'stressed', 'worthless',\n",
              "       'depressed', 'happy', 'casual', 'anxious', 'not-talking', 'sleep',\n",
              "       'scared', 'death', 'understand', 'done', 'suicide', 'hate-you',\n",
              "       'hate-me', 'default', 'jokes', 'repeat', 'wrong', 'stupid',\n",
              "       'location', 'something-else', 'friends', 'ask', 'problem',\n",
              "       'no-approach', 'learn-more', 'user-agree', 'meditation',\n",
              "       'user-meditation', 'pandora-useful', 'user-advice',\n",
              "       'learn-mental-health', 'mental-health-fact', 'fact-1', 'fact-2',\n",
              "       'fact-3', 'fact-5', 'fact-6', 'fact-7', 'fact-8', 'fact-9',\n",
              "       'fact-10', 'fact-11', 'fact-12', 'fact-13', 'fact-14', 'fact-15',\n",
              "       'fact-16', 'fact-17', 'fact-18', 'fact-19', 'fact-20', 'fact-21',\n",
              "       'fact-22', 'fact-23', 'fact-24', 'fact-25', 'fact-26', 'fact-27',\n",
              "       'fact-28', 'fact-29', 'fact-30', 'fact-31', 'fact-32'],\n",
              "      dtype=object)"
            ]
          },
          "metadata": {},
          "execution_count": 17
        }
      ]
    },
    {
      "cell_type": "code",
      "source": [
        "df['tag'].nunique()"
      ],
      "metadata": {
        "execution": {
          "iopub.status.busy": "2024-02-22T21:56:41.800750Z",
          "iopub.execute_input": "2024-02-22T21:56:41.801012Z",
          "iopub.status.idle": "2024-02-22T21:56:41.810329Z",
          "shell.execute_reply.started": "2024-02-22T21:56:41.800989Z",
          "shell.execute_reply": "2024-02-22T21:56:41.809437Z"
        },
        "trusted": true,
        "id": "E65d8YmBnc0N",
        "outputId": "33ee66a7-417b-4904-d23f-30aaff6a19c7",
        "colab": {
          "base_uri": "https://localhost:8080/"
        }
      },
      "execution_count": 18,
      "outputs": [
        {
          "output_type": "execute_result",
          "data": {
            "text/plain": [
              "80"
            ]
          },
          "metadata": {},
          "execution_count": 18
        }
      ]
    },
    {
      "cell_type": "markdown",
      "source": [
        "## Data Preprocessing¶\n"
      ],
      "metadata": {
        "id": "7SbEvmKlnc0O"
      }
    },
    {
      "cell_type": "markdown",
      "source": [
        "##### Now I am going to apply some text preprocessing stuffs such as lowering, punctuation removing and then tokenize the patterns.\n"
      ],
      "metadata": {
        "id": "wzoUaG3Gnc0R"
      }
    },
    {
      "cell_type": "code",
      "source": [
        "from tensorflow.keras.preprocessing.text import Tokenizer\n",
        "\n",
        "tokenizer = Tokenizer(lower=True, split=' ')\n",
        "#  lists to be a token\n",
        "tokenizer.fit_on_texts(df['patterns'])\n",
        "# serialized JSON dictionary\n",
        "tokenizer.get_config()"
      ],
      "metadata": {
        "execution": {
          "iopub.status.busy": "2024-02-22T21:56:41.811466Z",
          "iopub.execute_input": "2024-02-22T21:56:41.811813Z",
          "iopub.status.idle": "2024-02-22T21:56:51.451892Z",
          "shell.execute_reply.started": "2024-02-22T21:56:41.811787Z",
          "shell.execute_reply": "2024-02-22T21:56:51.450790Z"
        },
        "trusted": true,
        "id": "Tl6KFQZtnc0R",
        "outputId": "b8636237-d95d-4d4f-883f-aa7f6255a015",
        "colab": {
          "base_uri": "https://localhost:8080/"
        }
      },
      "execution_count": 19,
      "outputs": [
        {
          "output_type": "execute_result",
          "data": {
            "text/plain": [
              "{'num_words': None,\n",
              " 'filters': '!\"#$%&()*+,-./:;<=>?@[\\\\]^_`{|}~\\t\\n',\n",
              " 'lower': True,\n",
              " 'split': ' ',\n",
              " 'char_level': False,\n",
              " 'oov_token': None,\n",
              " 'document_count': 232,\n",
              " 'word_counts': '{\"hi\": 2, \"hey\": 2, \"is\": 13, \"anyone\": 2, \"there\": 5, \"hello\": 1, \"howdy\": 1, \"hola\": 1, \"bonjour\": 1, \"konnichiwa\": 1, \"guten\": 1, \"tag\": 1, \"ola\": 1, \"good\": 5, \"morning\": 1, \"afternoon\": 1, \"evening\": 1, \"night\": 1, \"bye\": 3, \"see\": 2, \"you\": 38, \"later\": 1, \"goodbye\": 1, \"au\": 1, \"revoir\": 1, \"sayonara\": 1, \"ok\": 4, \"then\": 1, \"fare\": 1, \"thee\": 1, \"well\": 2, \"thanks\": 2, \"thank\": 3, \"that\\'s\": 3, \"helpful\": 1, \"for\": 10, \"the\": 10, \"help\": 6, \"than\": 1, \"very\": 3, \"much\": 4, \"nothing\": 3, \"who\": 6, \"are\": 15, \"what\": 29, \"tell\": 6, \"me\": 19, \"more\": 6, \"about\": 20, \"yourself\": 3, \"your\": 3, \"name\": 4, \"should\": 3, \"i\": 95, \"call\": 1, \"what\\'s\": 3, \"can\": 16, \"do\": 14, \"created\": 2, \"how\": 8, \"were\": 2, \"made\": 1, \"my\": 13, \"am\": 17, \"go\": 4, \"by\": 1, \"could\": 2, \"give\": 1, \"a\": 12, \"hand\": 1, \"please\": 2, \"need\": 6, \"support\": 3, \"feeling\": 1, \"lonely\": 4, \"so\": 10, \"feel\": 16, \"down\": 1, \"sad\": 2, \"empty\": 1, \"don\\'t\": 11, \"have\": 9, \"stressed\": 4, \"out\": 3, \"stuck\": 1, \"still\": 1, \"burned\": 1, \"worthless\": 1, \"no\": 5, \"one\": 1, \"likes\": 1, \"can\\'t\": 7, \"anything\": 2, \"useless\": 2, \"makes\": 1, \"sense\": 2, \"anymore\": 2, \"take\": 1, \"it\": 7, \"depressed\": 3, \"think\": 3, \"i\\'m\": 9, \"depression\": 7, \"great\": 1, \"today\": 1, \"happy\": 2, \"cheerful\": 1, \"fine\": 2, \"oh\": 1, \"okay\": 1, \"nice\": 1, \"whatever\": 1, \"k\": 1, \"yeah\": 3, \"yes\": 2, \"not\": 5, \"really\": 2, \"anxious\": 2, \"because\": 4, \"of\": 8, \"want\": 9, \"to\": 24, \"talk\": 5, \"just\": 3, \"stay\": 1, \"away\": 4, \"bring\": 1, \"myself\": 7, \"open\": 1, \"up\": 2, \"shut\": 1, \"insominia\": 1, \"suffering\": 2, \"from\": 2, \"insomnia\": 1, \"sleep\": 3, \"haven\\'t\": 2, \"slept\": 1, \"last\": 1, \"days\": 2, \"seem\": 1, \"had\": 1, \"proper\": 1, \"past\": 1, \"few\": 1, \"scared\": 2, \"that\": 8, \"sounds\": 3, \"awful\": 1, \"this\": 3, \"way\": 1, \"mom\": 1, \"died\": 3, \"brother\": 1, \"dad\": 1, \"passed\": 3, \"sister\": 1, \"someone\": 2, \"in\": 3, \"family\": 2, \"friend\": 1, \"understand\": 1, \"you\\'re\": 5, \"some\": 4, \"robot\": 1, \"would\": 5, \"know\": 8, \"possibly\": 1, \"going\": 3, \"through\": 1, \"nobody\": 1, \"understands\": 1, \"all\": 4, \"say\": 2, \"else\": 4, \"be\": 2, \"kill\": 2, \"i\\'ve\": 2, \"thought\": 1, \"killing\": 1, \"die\": 1, \"commit\": 1, \"suicide\": 1, \"hate\": 3, \"like\": 6, \"trust\": 1, \"exams\": 4, \"friends\": 2, \"relationship\": 1, \"boyfriend\": 1, \"girlfriend\": 1, \"money\": 1, \"financial\": 1, \"problems\": 5, \"joke\": 2, \"another\": 2, \"already\": 2, \"told\": 1, \"mentioned\": 1, \"why\": 2, \"repeating\": 1, \"saying\": 1, \"doesn\\'t\": 1, \"make\": 1, \"wrong\": 2, \"response\": 1, \"answer\": 1, \"stupid\": 1, \"crazy\": 1, \"dumb\": 2, \"where\": 6, \"live\": 1, \"location\": 1, \"something\": 4, \"let\\'s\": 1, \"we\": 1, \"any\": 2, \"ask\": 1, \"probably\": 2, \"approaching\": 1, \"prepared\": 1, \"enough\": 1, \"guess\": 2, \"sure\": 1, \"learn\": 6, \"right\": 3, \"deserve\": 1, \"break\": 1, \"absolutely\": 1, \"hmmm\": 1, \"useful\": 2, \"did\": 1, \"said\": 1, \"and\": 5, \"alot\": 1, \"better\": 2, \"now\": 1, \"again\": 1, \"i\\'ll\": 1, \"continue\": 1, \"practicing\": 1, \"meditation\": 1, \"focus\": 1, \"on\": 2, \"control\": 1, \"advice\": 3, \"mental\": 25, \"health\": 19, \"interested\": 1, \"learning\": 1, \"fact\": 2, \"define\": 2, \"important\": 1, \"importance\": 1, \"if\": 6, \"mentally\": 1, \"ill\": 1, \"therapist\": 2, \"does\": 3, \"therapy\": 4, \"mean\": 1, \"illness\": 5, \"affect\": 1, \"causes\": 2, \"warning\": 1, \"signs\": 1, \"people\": 1, \"with\": 1, \"recover\": 1, \"appears\": 1, \"symptoms\": 1, \"disorder\": 1, \"find\": 4, \"professional\": 2, \"or\": 2, \"child\": 2, \"treatment\": 3, \"options\": 1, \"available\": 1, \"become\": 1, \"involved\": 1, \"difference\": 4, \"between\": 4, \"professionals\": 2, \"get\": 1, \"before\": 1, \"starting\": 1, \"new\": 1, \"medication\": 1, \"types\": 2, \"different\": 1, \"group\": 1, \"prevent\": 1, \"cures\": 1, \"cure\": 1, \"worried\": 1, \"unwell\": 1, \"maintain\": 1, \"social\": 1, \"connections\": 1, \"anxiety\": 1, \"stress\": 1, \"sadness\": 2}',\n",
              " 'word_docs': '{\"hi\": 2, \"hey\": 2, \"there\": 5, \"anyone\": 2, \"is\": 13, \"hello\": 1, \"howdy\": 1, \"hola\": 1, \"bonjour\": 1, \"konnichiwa\": 1, \"tag\": 1, \"guten\": 1, \"ola\": 1, \"morning\": 1, \"good\": 5, \"afternoon\": 1, \"evening\": 1, \"night\": 1, \"bye\": 3, \"you\": 37, \"see\": 2, \"later\": 1, \"goodbye\": 1, \"revoir\": 1, \"au\": 1, \"sayonara\": 1, \"ok\": 4, \"then\": 1, \"well\": 2, \"thee\": 1, \"fare\": 1, \"thanks\": 2, \"thank\": 3, \"that\\'s\": 3, \"helpful\": 1, \"help\": 6, \"the\": 10, \"for\": 10, \"very\": 3, \"much\": 4, \"than\": 1, \"nothing\": 3, \"are\": 15, \"who\": 6, \"what\": 29, \"yourself\": 3, \"me\": 19, \"more\": 6, \"tell\": 6, \"about\": 20, \"name\": 4, \"your\": 3, \"should\": 3, \"call\": 1, \"i\": 88, \"what\\'s\": 3, \"do\": 12, \"can\": 16, \"created\": 2, \"were\": 2, \"how\": 8, \"made\": 1, \"my\": 13, \"am\": 17, \"by\": 1, \"go\": 4, \"could\": 2, \"a\": 12, \"give\": 1, \"hand\": 1, \"please\": 2, \"support\": 3, \"need\": 6, \"feeling\": 1, \"lonely\": 4, \"so\": 10, \"down\": 1, \"feel\": 16, \"sad\": 2, \"empty\": 1, \"don\\'t\": 11, \"have\": 9, \"out\": 3, \"stressed\": 4, \"stuck\": 1, \"still\": 1, \"burned\": 1, \"worthless\": 1, \"likes\": 1, \"one\": 1, \"no\": 5, \"anything\": 2, \"can\\'t\": 7, \"useless\": 2, \"makes\": 1, \"anymore\": 2, \"sense\": 2, \"it\": 7, \"take\": 1, \"depressed\": 3, \"i\\'m\": 9, \"think\": 3, \"depression\": 7, \"great\": 1, \"today\": 1, \"happy\": 2, \"cheerful\": 1, \"fine\": 2, \"oh\": 1, \"okay\": 1, \"nice\": 1, \"whatever\": 1, \"k\": 1, \"yeah\": 3, \"yes\": 2, \"really\": 2, \"not\": 5, \"anxious\": 2, \"because\": 3, \"of\": 7, \"want\": 9, \"to\": 23, \"talk\": 5, \"stay\": 1, \"away\": 4, \"just\": 3, \"up\": 2, \"bring\": 1, \"open\": 1, \"myself\": 7, \"shut\": 1, \"insominia\": 1, \"from\": 2, \"suffering\": 2, \"insomnia\": 1, \"sleep\": 3, \"haven\\'t\": 2, \"days\": 2, \"last\": 1, \"slept\": 1, \"seem\": 1, \"few\": 1, \"had\": 1, \"proper\": 1, \"past\": 1, \"scared\": 2, \"awful\": 1, \"sounds\": 3, \"that\": 8, \"way\": 1, \"this\": 3, \"mom\": 1, \"died\": 3, \"brother\": 1, \"passed\": 3, \"dad\": 1, \"sister\": 1, \"in\": 3, \"family\": 2, \"someone\": 2, \"friend\": 1, \"understand\": 1, \"some\": 4, \"you\\'re\": 5, \"robot\": 1, \"would\": 5, \"know\": 8, \"going\": 3, \"possibly\": 1, \"through\": 1, \"nobody\": 1, \"understands\": 1, \"all\": 4, \"say\": 2, \"else\": 4, \"be\": 2, \"kill\": 2, \"thought\": 1, \"killing\": 1, \"i\\'ve\": 2, \"die\": 1, \"suicide\": 1, \"commit\": 1, \"hate\": 3, \"like\": 6, \"trust\": 1, \"exams\": 4, \"friends\": 2, \"relationship\": 1, \"boyfriend\": 1, \"girlfriend\": 1, \"money\": 1, \"financial\": 1, \"problems\": 5, \"joke\": 2, \"another\": 2, \"told\": 1, \"already\": 2, \"mentioned\": 1, \"why\": 2, \"repeating\": 1, \"saying\": 1, \"doesn\\'t\": 1, \"make\": 1, \"wrong\": 2, \"response\": 1, \"answer\": 1, \"stupid\": 1, \"crazy\": 1, \"dumb\": 2, \"where\": 6, \"live\": 1, \"location\": 1, \"something\": 4, \"let\\'s\": 1, \"we\": 1, \"any\": 2, \"ask\": 1, \"prepared\": 1, \"probably\": 2, \"approaching\": 1, \"enough\": 1, \"guess\": 2, \"sure\": 1, \"learn\": 6, \"break\": 1, \"deserve\": 1, \"right\": 3, \"absolutely\": 1, \"useful\": 2, \"hmmm\": 1, \"better\": 2, \"and\": 5, \"did\": 1, \"said\": 1, \"alot\": 1, \"now\": 1, \"again\": 1, \"i\\'ll\": 1, \"practicing\": 1, \"control\": 1, \"meditation\": 1, \"on\": 2, \"focus\": 1, \"continue\": 1, \"advice\": 3, \"mental\": 25, \"health\": 19, \"interested\": 1, \"learning\": 1, \"fact\": 2, \"define\": 2, \"important\": 1, \"importance\": 1, \"if\": 6, \"ill\": 1, \"mentally\": 1, \"therapist\": 2, \"does\": 3, \"therapy\": 4, \"mean\": 1, \"illness\": 5, \"affect\": 1, \"causes\": 2, \"signs\": 1, \"warning\": 1, \"with\": 1, \"people\": 1, \"recover\": 1, \"symptoms\": 1, \"disorder\": 1, \"appears\": 1, \"child\": 2, \"professional\": 2, \"or\": 2, \"find\": 4, \"options\": 1, \"treatment\": 3, \"available\": 1, \"involved\": 1, \"become\": 1, \"between\": 4, \"professionals\": 2, \"difference\": 4, \"get\": 1, \"before\": 1, \"medication\": 1, \"new\": 1, \"starting\": 1, \"types\": 2, \"different\": 1, \"group\": 1, \"prevent\": 1, \"cures\": 1, \"cure\": 1, \"worried\": 1, \"unwell\": 1, \"maintain\": 1, \"social\": 1, \"connections\": 1, \"stress\": 1, \"anxiety\": 1, \"sadness\": 2}',\n",
              " 'index_docs': '{\"95\": 2, \"96\": 2, \"41\": 5, \"97\": 2, \"14\": 13, \"150\": 1, \"151\": 1, \"152\": 1, \"153\": 1, \"154\": 1, \"156\": 1, \"155\": 1, \"157\": 1, \"158\": 1, \"42\": 5, \"159\": 1, \"160\": 1, \"161\": 1, \"68\": 3, \"2\": 37, \"98\": 2, \"162\": 1, \"163\": 1, \"165\": 1, \"164\": 1, \"166\": 1, \"51\": 4, \"167\": 1, \"99\": 2, \"169\": 1, \"168\": 1, \"100\": 2, \"69\": 3, \"70\": 3, \"170\": 1, \"32\": 6, \"19\": 10, \"18\": 10, \"71\": 3, \"52\": 4, \"171\": 1, \"72\": 3, \"12\": 15, \"33\": 6, \"3\": 29, \"73\": 3, \"7\": 19, \"35\": 6, \"34\": 6, \"6\": 20, \"53\": 4, \"74\": 3, \"75\": 3, \"172\": 1, \"1\": 88, \"76\": 3, \"13\": 12, \"10\": 16, \"101\": 2, \"102\": 2, \"24\": 8, \"173\": 1, \"15\": 13, \"9\": 17, \"174\": 1, \"54\": 4, \"103\": 2, \"16\": 12, \"175\": 1, \"176\": 1, \"104\": 2, \"77\": 3, \"36\": 6, \"177\": 1, \"55\": 4, \"20\": 10, \"178\": 1, \"11\": 16, \"105\": 2, \"179\": 1, \"17\": 11, \"21\": 9, \"78\": 3, \"56\": 4, \"180\": 1, \"181\": 1, \"182\": 1, \"183\": 1, \"185\": 1, \"184\": 1, \"43\": 5, \"106\": 2, \"28\": 7, \"107\": 2, \"186\": 1, \"109\": 2, \"108\": 2, \"29\": 7, \"187\": 1, \"79\": 3, \"22\": 9, \"80\": 3, \"30\": 7, \"188\": 1, \"189\": 1, \"110\": 2, \"190\": 1, \"111\": 2, \"191\": 1, \"192\": 1, \"193\": 1, \"194\": 1, \"195\": 1, \"81\": 3, \"112\": 2, \"113\": 2, \"44\": 5, \"114\": 2, \"57\": 3, \"25\": 7, \"23\": 9, \"5\": 23, \"45\": 5, \"196\": 1, \"58\": 4, \"82\": 3, \"115\": 2, \"197\": 1, \"198\": 1, \"31\": 7, \"199\": 1, \"200\": 1, \"117\": 2, \"116\": 2, \"201\": 1, \"83\": 3, \"118\": 2, \"119\": 2, \"203\": 1, \"202\": 1, \"204\": 1, \"208\": 1, \"205\": 1, \"206\": 1, \"207\": 1, \"120\": 2, \"209\": 1, \"84\": 3, \"26\": 8, \"210\": 1, \"85\": 3, \"211\": 1, \"86\": 3, \"212\": 1, \"87\": 3, \"213\": 1, \"214\": 1, \"88\": 3, \"122\": 2, \"121\": 2, \"215\": 1, \"216\": 1, \"59\": 4, \"46\": 5, \"217\": 1, \"47\": 5, \"27\": 8, \"89\": 3, \"218\": 1, \"219\": 1, \"220\": 1, \"221\": 1, \"60\": 4, \"123\": 2, \"61\": 4, \"124\": 2, \"125\": 2, \"222\": 1, \"223\": 1, \"126\": 2, \"224\": 1, \"226\": 1, \"225\": 1, \"90\": 3, \"37\": 6, \"227\": 1, \"62\": 4, \"127\": 2, \"228\": 1, \"229\": 1, \"230\": 1, \"231\": 1, \"232\": 1, \"48\": 5, \"128\": 2, \"129\": 2, \"233\": 1, \"130\": 2, \"234\": 1, \"131\": 2, \"235\": 1, \"236\": 1, \"237\": 1, \"238\": 1, \"132\": 2, \"239\": 1, \"240\": 1, \"241\": 1, \"242\": 1, \"133\": 2, \"38\": 6, \"243\": 1, \"244\": 1, \"63\": 4, \"245\": 1, \"246\": 1, \"134\": 2, \"247\": 1, \"249\": 1, \"135\": 2, \"248\": 1, \"250\": 1, \"136\": 2, \"251\": 1, \"39\": 6, \"253\": 1, \"252\": 1, \"91\": 3, \"254\": 1, \"137\": 2, \"255\": 1, \"138\": 2, \"49\": 5, \"256\": 1, \"257\": 1, \"258\": 1, \"259\": 1, \"260\": 1, \"261\": 1, \"263\": 1, \"266\": 1, \"264\": 1, \"139\": 2, \"265\": 1, \"262\": 1, \"92\": 3, \"4\": 25, \"8\": 19, \"267\": 1, \"268\": 1, \"140\": 2, \"141\": 2, \"269\": 1, \"270\": 1, \"40\": 6, \"272\": 1, \"271\": 1, \"142\": 2, \"93\": 3, \"64\": 4, \"273\": 1, \"50\": 5, \"274\": 1, \"143\": 2, \"276\": 1, \"275\": 1, \"278\": 1, \"277\": 1, \"279\": 1, \"281\": 1, \"282\": 1, \"280\": 1, \"146\": 2, \"144\": 2, \"145\": 2, \"65\": 4, \"283\": 1, \"94\": 3, \"284\": 1, \"286\": 1, \"285\": 1, \"67\": 4, \"147\": 2, \"66\": 4, \"287\": 1, \"288\": 1, \"291\": 1, \"290\": 1, \"289\": 1, \"148\": 2, \"292\": 1, \"293\": 1, \"294\": 1, \"295\": 1, \"296\": 1, \"297\": 1, \"298\": 1, \"299\": 1, \"300\": 1, \"301\": 1, \"303\": 1, \"302\": 1, \"149\": 2}',\n",
              " 'index_word': '{\"1\": \"i\", \"2\": \"you\", \"3\": \"what\", \"4\": \"mental\", \"5\": \"to\", \"6\": \"about\", \"7\": \"me\", \"8\": \"health\", \"9\": \"am\", \"10\": \"can\", \"11\": \"feel\", \"12\": \"are\", \"13\": \"do\", \"14\": \"is\", \"15\": \"my\", \"16\": \"a\", \"17\": \"don\\'t\", \"18\": \"for\", \"19\": \"the\", \"20\": \"so\", \"21\": \"have\", \"22\": \"i\\'m\", \"23\": \"want\", \"24\": \"how\", \"25\": \"of\", \"26\": \"that\", \"27\": \"know\", \"28\": \"can\\'t\", \"29\": \"it\", \"30\": \"depression\", \"31\": \"myself\", \"32\": \"help\", \"33\": \"who\", \"34\": \"tell\", \"35\": \"more\", \"36\": \"need\", \"37\": \"like\", \"38\": \"where\", \"39\": \"learn\", \"40\": \"if\", \"41\": \"there\", \"42\": \"good\", \"43\": \"no\", \"44\": \"not\", \"45\": \"talk\", \"46\": \"you\\'re\", \"47\": \"would\", \"48\": \"problems\", \"49\": \"and\", \"50\": \"illness\", \"51\": \"ok\", \"52\": \"much\", \"53\": \"name\", \"54\": \"go\", \"55\": \"lonely\", \"56\": \"stressed\", \"57\": \"because\", \"58\": \"away\", \"59\": \"some\", \"60\": \"all\", \"61\": \"else\", \"62\": \"exams\", \"63\": \"something\", \"64\": \"therapy\", \"65\": \"find\", \"66\": \"difference\", \"67\": \"between\", \"68\": \"bye\", \"69\": \"thank\", \"70\": \"that\\'s\", \"71\": \"very\", \"72\": \"nothing\", \"73\": \"yourself\", \"74\": \"your\", \"75\": \"should\", \"76\": \"what\\'s\", \"77\": \"support\", \"78\": \"out\", \"79\": \"depressed\", \"80\": \"think\", \"81\": \"yeah\", \"82\": \"just\", \"83\": \"sleep\", \"84\": \"sounds\", \"85\": \"this\", \"86\": \"died\", \"87\": \"passed\", \"88\": \"in\", \"89\": \"going\", \"90\": \"hate\", \"91\": \"right\", \"92\": \"advice\", \"93\": \"does\", \"94\": \"treatment\", \"95\": \"hi\", \"96\": \"hey\", \"97\": \"anyone\", \"98\": \"see\", \"99\": \"well\", \"100\": \"thanks\", \"101\": \"created\", \"102\": \"were\", \"103\": \"could\", \"104\": \"please\", \"105\": \"sad\", \"106\": \"anything\", \"107\": \"useless\", \"108\": \"sense\", \"109\": \"anymore\", \"110\": \"happy\", \"111\": \"fine\", \"112\": \"yes\", \"113\": \"really\", \"114\": \"anxious\", \"115\": \"up\", \"116\": \"suffering\", \"117\": \"from\", \"118\": \"haven\\'t\", \"119\": \"days\", \"120\": \"scared\", \"121\": \"someone\", \"122\": \"family\", \"123\": \"say\", \"124\": \"be\", \"125\": \"kill\", \"126\": \"i\\'ve\", \"127\": \"friends\", \"128\": \"joke\", \"129\": \"another\", \"130\": \"already\", \"131\": \"why\", \"132\": \"wrong\", \"133\": \"dumb\", \"134\": \"any\", \"135\": \"probably\", \"136\": \"guess\", \"137\": \"useful\", \"138\": \"better\", \"139\": \"on\", \"140\": \"fact\", \"141\": \"define\", \"142\": \"therapist\", \"143\": \"causes\", \"144\": \"professional\", \"145\": \"or\", \"146\": \"child\", \"147\": \"professionals\", \"148\": \"types\", \"149\": \"sadness\", \"150\": \"hello\", \"151\": \"howdy\", \"152\": \"hola\", \"153\": \"bonjour\", \"154\": \"konnichiwa\", \"155\": \"guten\", \"156\": \"tag\", \"157\": \"ola\", \"158\": \"morning\", \"159\": \"afternoon\", \"160\": \"evening\", \"161\": \"night\", \"162\": \"later\", \"163\": \"goodbye\", \"164\": \"au\", \"165\": \"revoir\", \"166\": \"sayonara\", \"167\": \"then\", \"168\": \"fare\", \"169\": \"thee\", \"170\": \"helpful\", \"171\": \"than\", \"172\": \"call\", \"173\": \"made\", \"174\": \"by\", \"175\": \"give\", \"176\": \"hand\", \"177\": \"feeling\", \"178\": \"down\", \"179\": \"empty\", \"180\": \"stuck\", \"181\": \"still\", \"182\": \"burned\", \"183\": \"worthless\", \"184\": \"one\", \"185\": \"likes\", \"186\": \"makes\", \"187\": \"take\", \"188\": \"great\", \"189\": \"today\", \"190\": \"cheerful\", \"191\": \"oh\", \"192\": \"okay\", \"193\": \"nice\", \"194\": \"whatever\", \"195\": \"k\", \"196\": \"stay\", \"197\": \"bring\", \"198\": \"open\", \"199\": \"shut\", \"200\": \"insominia\", \"201\": \"insomnia\", \"202\": \"slept\", \"203\": \"last\", \"204\": \"seem\", \"205\": \"had\", \"206\": \"proper\", \"207\": \"past\", \"208\": \"few\", \"209\": \"awful\", \"210\": \"way\", \"211\": \"mom\", \"212\": \"brother\", \"213\": \"dad\", \"214\": \"sister\", \"215\": \"friend\", \"216\": \"understand\", \"217\": \"robot\", \"218\": \"possibly\", \"219\": \"through\", \"220\": \"nobody\", \"221\": \"understands\", \"222\": \"thought\", \"223\": \"killing\", \"224\": \"die\", \"225\": \"commit\", \"226\": \"suicide\", \"227\": \"trust\", \"228\": \"relationship\", \"229\": \"boyfriend\", \"230\": \"girlfriend\", \"231\": \"money\", \"232\": \"financial\", \"233\": \"told\", \"234\": \"mentioned\", \"235\": \"repeating\", \"236\": \"saying\", \"237\": \"doesn\\'t\", \"238\": \"make\", \"239\": \"response\", \"240\": \"answer\", \"241\": \"stupid\", \"242\": \"crazy\", \"243\": \"live\", \"244\": \"location\", \"245\": \"let\\'s\", \"246\": \"we\", \"247\": \"ask\", \"248\": \"approaching\", \"249\": \"prepared\", \"250\": \"enough\", \"251\": \"sure\", \"252\": \"deserve\", \"253\": \"break\", \"254\": \"absolutely\", \"255\": \"hmmm\", \"256\": \"did\", \"257\": \"said\", \"258\": \"alot\", \"259\": \"now\", \"260\": \"again\", \"261\": \"i\\'ll\", \"262\": \"continue\", \"263\": \"practicing\", \"264\": \"meditation\", \"265\": \"focus\", \"266\": \"control\", \"267\": \"interested\", \"268\": \"learning\", \"269\": \"important\", \"270\": \"importance\", \"271\": \"mentally\", \"272\": \"ill\", \"273\": \"mean\", \"274\": \"affect\", \"275\": \"warning\", \"276\": \"signs\", \"277\": \"people\", \"278\": \"with\", \"279\": \"recover\", \"280\": \"appears\", \"281\": \"symptoms\", \"282\": \"disorder\", \"283\": \"options\", \"284\": \"available\", \"285\": \"become\", \"286\": \"involved\", \"287\": \"get\", \"288\": \"before\", \"289\": \"starting\", \"290\": \"new\", \"291\": \"medication\", \"292\": \"different\", \"293\": \"group\", \"294\": \"prevent\", \"295\": \"cures\", \"296\": \"cure\", \"297\": \"worried\", \"298\": \"unwell\", \"299\": \"maintain\", \"300\": \"social\", \"301\": \"connections\", \"302\": \"anxiety\", \"303\": \"stress\"}',\n",
              " 'word_index': '{\"i\": 1, \"you\": 2, \"what\": 3, \"mental\": 4, \"to\": 5, \"about\": 6, \"me\": 7, \"health\": 8, \"am\": 9, \"can\": 10, \"feel\": 11, \"are\": 12, \"do\": 13, \"is\": 14, \"my\": 15, \"a\": 16, \"don\\'t\": 17, \"for\": 18, \"the\": 19, \"so\": 20, \"have\": 21, \"i\\'m\": 22, \"want\": 23, \"how\": 24, \"of\": 25, \"that\": 26, \"know\": 27, \"can\\'t\": 28, \"it\": 29, \"depression\": 30, \"myself\": 31, \"help\": 32, \"who\": 33, \"tell\": 34, \"more\": 35, \"need\": 36, \"like\": 37, \"where\": 38, \"learn\": 39, \"if\": 40, \"there\": 41, \"good\": 42, \"no\": 43, \"not\": 44, \"talk\": 45, \"you\\'re\": 46, \"would\": 47, \"problems\": 48, \"and\": 49, \"illness\": 50, \"ok\": 51, \"much\": 52, \"name\": 53, \"go\": 54, \"lonely\": 55, \"stressed\": 56, \"because\": 57, \"away\": 58, \"some\": 59, \"all\": 60, \"else\": 61, \"exams\": 62, \"something\": 63, \"therapy\": 64, \"find\": 65, \"difference\": 66, \"between\": 67, \"bye\": 68, \"thank\": 69, \"that\\'s\": 70, \"very\": 71, \"nothing\": 72, \"yourself\": 73, \"your\": 74, \"should\": 75, \"what\\'s\": 76, \"support\": 77, \"out\": 78, \"depressed\": 79, \"think\": 80, \"yeah\": 81, \"just\": 82, \"sleep\": 83, \"sounds\": 84, \"this\": 85, \"died\": 86, \"passed\": 87, \"in\": 88, \"going\": 89, \"hate\": 90, \"right\": 91, \"advice\": 92, \"does\": 93, \"treatment\": 94, \"hi\": 95, \"hey\": 96, \"anyone\": 97, \"see\": 98, \"well\": 99, \"thanks\": 100, \"created\": 101, \"were\": 102, \"could\": 103, \"please\": 104, \"sad\": 105, \"anything\": 106, \"useless\": 107, \"sense\": 108, \"anymore\": 109, \"happy\": 110, \"fine\": 111, \"yes\": 112, \"really\": 113, \"anxious\": 114, \"up\": 115, \"suffering\": 116, \"from\": 117, \"haven\\'t\": 118, \"days\": 119, \"scared\": 120, \"someone\": 121, \"family\": 122, \"say\": 123, \"be\": 124, \"kill\": 125, \"i\\'ve\": 126, \"friends\": 127, \"joke\": 128, \"another\": 129, \"already\": 130, \"why\": 131, \"wrong\": 132, \"dumb\": 133, \"any\": 134, \"probably\": 135, \"guess\": 136, \"useful\": 137, \"better\": 138, \"on\": 139, \"fact\": 140, \"define\": 141, \"therapist\": 142, \"causes\": 143, \"professional\": 144, \"or\": 145, \"child\": 146, \"professionals\": 147, \"types\": 148, \"sadness\": 149, \"hello\": 150, \"howdy\": 151, \"hola\": 152, \"bonjour\": 153, \"konnichiwa\": 154, \"guten\": 155, \"tag\": 156, \"ola\": 157, \"morning\": 158, \"afternoon\": 159, \"evening\": 160, \"night\": 161, \"later\": 162, \"goodbye\": 163, \"au\": 164, \"revoir\": 165, \"sayonara\": 166, \"then\": 167, \"fare\": 168, \"thee\": 169, \"helpful\": 170, \"than\": 171, \"call\": 172, \"made\": 173, \"by\": 174, \"give\": 175, \"hand\": 176, \"feeling\": 177, \"down\": 178, \"empty\": 179, \"stuck\": 180, \"still\": 181, \"burned\": 182, \"worthless\": 183, \"one\": 184, \"likes\": 185, \"makes\": 186, \"take\": 187, \"great\": 188, \"today\": 189, \"cheerful\": 190, \"oh\": 191, \"okay\": 192, \"nice\": 193, \"whatever\": 194, \"k\": 195, \"stay\": 196, \"bring\": 197, \"open\": 198, \"shut\": 199, \"insominia\": 200, \"insomnia\": 201, \"slept\": 202, \"last\": 203, \"seem\": 204, \"had\": 205, \"proper\": 206, \"past\": 207, \"few\": 208, \"awful\": 209, \"way\": 210, \"mom\": 211, \"brother\": 212, \"dad\": 213, \"sister\": 214, \"friend\": 215, \"understand\": 216, \"robot\": 217, \"possibly\": 218, \"through\": 219, \"nobody\": 220, \"understands\": 221, \"thought\": 222, \"killing\": 223, \"die\": 224, \"commit\": 225, \"suicide\": 226, \"trust\": 227, \"relationship\": 228, \"boyfriend\": 229, \"girlfriend\": 230, \"money\": 231, \"financial\": 232, \"told\": 233, \"mentioned\": 234, \"repeating\": 235, \"saying\": 236, \"doesn\\'t\": 237, \"make\": 238, \"response\": 239, \"answer\": 240, \"stupid\": 241, \"crazy\": 242, \"live\": 243, \"location\": 244, \"let\\'s\": 245, \"we\": 246, \"ask\": 247, \"approaching\": 248, \"prepared\": 249, \"enough\": 250, \"sure\": 251, \"deserve\": 252, \"break\": 253, \"absolutely\": 254, \"hmmm\": 255, \"did\": 256, \"said\": 257, \"alot\": 258, \"now\": 259, \"again\": 260, \"i\\'ll\": 261, \"continue\": 262, \"practicing\": 263, \"meditation\": 264, \"focus\": 265, \"control\": 266, \"interested\": 267, \"learning\": 268, \"important\": 269, \"importance\": 270, \"mentally\": 271, \"ill\": 272, \"mean\": 273, \"affect\": 274, \"warning\": 275, \"signs\": 276, \"people\": 277, \"with\": 278, \"recover\": 279, \"appears\": 280, \"symptoms\": 281, \"disorder\": 282, \"options\": 283, \"available\": 284, \"become\": 285, \"involved\": 286, \"get\": 287, \"before\": 288, \"starting\": 289, \"new\": 290, \"medication\": 291, \"different\": 292, \"group\": 293, \"prevent\": 294, \"cures\": 295, \"cure\": 296, \"worried\": 297, \"unwell\": 298, \"maintain\": 299, \"social\": 300, \"connections\": 301, \"anxiety\": 302, \"stress\": 303}'}"
            ]
          },
          "metadata": {},
          "execution_count": 19
        }
      ]
    },
    {
      "cell_type": "code",
      "source": [
        "vacab_size = len(tokenizer.word_index)\n",
        "print('number of unique words = ', vacab_size)\n",
        "vacab_size = 1000"
      ],
      "metadata": {
        "execution": {
          "iopub.status.busy": "2024-02-22T21:56:51.453187Z",
          "iopub.execute_input": "2024-02-22T21:56:51.453844Z",
          "iopub.status.idle": "2024-02-22T21:56:51.459371Z",
          "shell.execute_reply.started": "2024-02-22T21:56:51.453812Z",
          "shell.execute_reply": "2024-02-22T21:56:51.458325Z"
        },
        "trusted": true,
        "id": "7Kom3m2unc0S",
        "outputId": "a87eb264-1cd9-440b-8e6e-d9b1f0f40b04",
        "colab": {
          "base_uri": "https://localhost:8080/"
        }
      },
      "execution_count": 20,
      "outputs": [
        {
          "output_type": "stream",
          "name": "stdout",
          "text": [
            "number of unique words =  303\n"
          ]
        }
      ]
    },
    {
      "cell_type": "code",
      "source": [
        "from tensorflow.keras.preprocessing.sequence import pad_sequences\n",
        "from sklearn.preprocessing import LabelEncoder\n",
        "\n",
        "ptrn2seq = tokenizer.texts_to_sequences(df['patterns'])\n",
        "X = pad_sequences(ptrn2seq, padding='post')\n",
        "print('X shape = ', X.shape)\n",
        "\n",
        "lbl_enc = LabelEncoder()\n",
        "y = lbl_enc.fit_transform(df['tag'])\n",
        "print('y shape = ', y.shape)\n",
        "print('num of classes = ', len(np.unique(y)))"
      ],
      "metadata": {
        "execution": {
          "iopub.status.busy": "2024-02-22T21:56:51.460892Z",
          "iopub.execute_input": "2024-02-22T21:56:51.461210Z",
          "iopub.status.idle": "2024-02-22T21:56:51.968925Z",
          "shell.execute_reply.started": "2024-02-22T21:56:51.461183Z",
          "shell.execute_reply": "2024-02-22T21:56:51.967999Z"
        },
        "trusted": true,
        "id": "8cfz_wlGnc0T",
        "outputId": "ffc13d68-af5b-4185-fdf8-22febeeb04e1",
        "colab": {
          "base_uri": "https://localhost:8080/"
        }
      },
      "execution_count": 21,
      "outputs": [
        {
          "output_type": "stream",
          "name": "stdout",
          "text": [
            "X shape =  (232, 18)\n",
            "y shape =  (232,)\n",
            "num of classes =  80\n"
          ]
        }
      ]
    },
    {
      "cell_type": "code",
      "source": [
        "import tensorflow\n",
        "from tensorflow import keras\n",
        "from tensorflow.keras.models import Sequential\n",
        "from tensorflow.keras.layers import Input, Embedding, LSTM, LayerNormalization, Dense, Dropout\n",
        "\n",
        "model = Sequential()\n",
        "model.add(Input(shape=(X.shape[1])))\n",
        "model.add(Embedding(input_dim=vacab_size+1, output_dim=100))\n",
        "model.add(LSTM(32, return_sequences=True))\n",
        "model.add(LayerNormalization())\n",
        "model.add(LSTM(32, return_sequences=True))\n",
        "model.add(LayerNormalization())\n",
        "model.add(LSTM(32))\n",
        "model.add(LayerNormalization())\n",
        "model.add(Dense(128, activation=\"relu\"))\n",
        "model.add(LayerNormalization())\n",
        "model.add(Dropout(0.2))\n",
        "model.add(Dense(len(np.unique(y)), activation=\"softmax\"))\n",
        "model.compile(optimizer='adam', loss=\"sparse_categorical_crossentropy\", metrics=['accuracy'])\n",
        "\n",
        "model.summary()\n"
      ],
      "metadata": {
        "execution": {
          "iopub.status.busy": "2024-02-22T21:56:51.969995Z",
          "iopub.execute_input": "2024-02-22T21:56:51.970300Z",
          "iopub.status.idle": "2024-02-22T21:56:56.929986Z",
          "shell.execute_reply.started": "2024-02-22T21:56:51.970274Z",
          "shell.execute_reply": "2024-02-22T21:56:56.929078Z"
        },
        "trusted": true,
        "id": "t9IZ-BUXnc0T",
        "outputId": "659a95c5-6dfd-4061-e1f3-23f9e5b10762",
        "colab": {
          "base_uri": "https://localhost:8080/"
        }
      },
      "execution_count": 22,
      "outputs": [
        {
          "output_type": "stream",
          "name": "stdout",
          "text": [
            "Model: \"sequential\"\n",
            "_________________________________________________________________\n",
            " Layer (type)                Output Shape              Param #   \n",
            "=================================================================\n",
            " embedding (Embedding)       (None, 18, 100)           100100    \n",
            "                                                                 \n",
            " lstm (LSTM)                 (None, 18, 32)            17024     \n",
            "                                                                 \n",
            " layer_normalization (Layer  (None, 18, 32)            64        \n",
            " Normalization)                                                  \n",
            "                                                                 \n",
            " lstm_1 (LSTM)               (None, 18, 32)            8320      \n",
            "                                                                 \n",
            " layer_normalization_1 (Lay  (None, 18, 32)            64        \n",
            " erNormalization)                                                \n",
            "                                                                 \n",
            " lstm_2 (LSTM)               (None, 32)                8320      \n",
            "                                                                 \n",
            " layer_normalization_2 (Lay  (None, 32)                64        \n",
            " erNormalization)                                                \n",
            "                                                                 \n",
            " dense (Dense)               (None, 128)               4224      \n",
            "                                                                 \n",
            " layer_normalization_3 (Lay  (None, 128)               256       \n",
            " erNormalization)                                                \n",
            "                                                                 \n",
            " dropout (Dropout)           (None, 128)               0         \n",
            "                                                                 \n",
            " dense_1 (Dense)             (None, 80)                10320     \n",
            "                                                                 \n",
            "=================================================================\n",
            "Total params: 148756 (581.08 KB)\n",
            "Trainable params: 148756 (581.08 KB)\n",
            "Non-trainable params: 0 (0.00 Byte)\n",
            "_________________________________________________________________\n"
          ]
        }
      ]
    },
    {
      "cell_type": "markdown",
      "source": [
        "# Split the data  "
      ],
      "metadata": {
        "id": "gt9enXjcnc0U"
      }
    },
    {
      "cell_type": "code",
      "source": [
        "model_history = model.fit(x=X,\n",
        "                          y=y,\n",
        "                          batch_size=10,\n",
        "                          callbacks=[tensorflow.keras.callbacks.EarlyStopping(monitor='accuracy', patience=3)],\n",
        "                          epochs=30)"
      ],
      "metadata": {
        "execution": {
          "iopub.status.busy": "2024-02-22T21:56:56.931150Z",
          "iopub.execute_input": "2024-02-22T21:56:56.931427Z",
          "iopub.status.idle": "2024-02-22T21:57:24.445624Z",
          "shell.execute_reply.started": "2024-02-22T21:56:56.931401Z",
          "shell.execute_reply": "2024-02-22T21:57:24.444598Z"
        },
        "trusted": true,
        "id": "RKlFbhzHnc0U",
        "outputId": "eaf2200e-4840-45b1-9450-9b4cf435d4b8",
        "colab": {
          "base_uri": "https://localhost:8080/"
        }
      },
      "execution_count": 23,
      "outputs": [
        {
          "output_type": "stream",
          "name": "stdout",
          "text": [
            "Epoch 1/30\n",
            "24/24 [==============================] - 9s 37ms/step - loss: 4.8584 - accuracy: 0.0172\n",
            "Epoch 2/30\n",
            "24/24 [==============================] - 1s 38ms/step - loss: 4.3420 - accuracy: 0.0517\n",
            "Epoch 3/30\n",
            "24/24 [==============================] - 1s 25ms/step - loss: 4.0794 - accuracy: 0.0776\n",
            "Epoch 4/30\n",
            "24/24 [==============================] - 1s 24ms/step - loss: 3.8416 - accuracy: 0.1034\n",
            "Epoch 5/30\n",
            "24/24 [==============================] - 1s 25ms/step - loss: 3.6024 - accuracy: 0.1164\n",
            "Epoch 6/30\n",
            "24/24 [==============================] - 1s 23ms/step - loss: 3.2639 - accuracy: 0.1810\n",
            "Epoch 7/30\n",
            "24/24 [==============================] - 1s 24ms/step - loss: 2.9423 - accuracy: 0.2716\n",
            "Epoch 8/30\n",
            "24/24 [==============================] - 1s 24ms/step - loss: 2.5663 - accuracy: 0.3319\n",
            "Epoch 9/30\n",
            "24/24 [==============================] - 1s 24ms/step - loss: 2.1725 - accuracy: 0.4181\n",
            "Epoch 10/30\n",
            "24/24 [==============================] - 1s 26ms/step - loss: 2.0152 - accuracy: 0.4397\n",
            "Epoch 11/30\n",
            "24/24 [==============================] - 1s 24ms/step - loss: 1.6393 - accuracy: 0.5862\n",
            "Epoch 12/30\n",
            "24/24 [==============================] - 1s 25ms/step - loss: 1.3677 - accuracy: 0.6940\n",
            "Epoch 13/30\n",
            "24/24 [==============================] - 1s 23ms/step - loss: 1.2177 - accuracy: 0.7328\n",
            "Epoch 14/30\n",
            "24/24 [==============================] - 1s 25ms/step - loss: 1.0430 - accuracy: 0.7500\n",
            "Epoch 15/30\n",
            "24/24 [==============================] - 1s 25ms/step - loss: 0.8697 - accuracy: 0.8147\n",
            "Epoch 16/30\n",
            "24/24 [==============================] - 1s 23ms/step - loss: 0.6946 - accuracy: 0.8664\n",
            "Epoch 17/30\n",
            "24/24 [==============================] - 1s 25ms/step - loss: 0.5754 - accuracy: 0.8750\n",
            "Epoch 18/30\n",
            "24/24 [==============================] - 1s 23ms/step - loss: 0.4346 - accuracy: 0.9224\n",
            "Epoch 19/30\n",
            "24/24 [==============================] - 1s 24ms/step - loss: 0.3749 - accuracy: 0.9353\n",
            "Epoch 20/30\n",
            "24/24 [==============================] - 1s 33ms/step - loss: 0.3272 - accuracy: 0.9526\n",
            "Epoch 21/30\n",
            "24/24 [==============================] - 1s 35ms/step - loss: 0.2995 - accuracy: 0.9569\n",
            "Epoch 22/30\n",
            "24/24 [==============================] - 1s 35ms/step - loss: 0.2633 - accuracy: 0.9612\n",
            "Epoch 23/30\n",
            "24/24 [==============================] - 1s 38ms/step - loss: 0.2218 - accuracy: 0.9741\n",
            "Epoch 24/30\n",
            "24/24 [==============================] - 1s 39ms/step - loss: 0.1873 - accuracy: 0.9741\n",
            "Epoch 25/30\n",
            "24/24 [==============================] - 1s 39ms/step - loss: 0.1542 - accuracy: 0.9914\n",
            "Epoch 26/30\n",
            "24/24 [==============================] - 1s 24ms/step - loss: 0.1210 - accuracy: 0.9957\n",
            "Epoch 27/30\n",
            "24/24 [==============================] - 1s 23ms/step - loss: 0.1148 - accuracy: 0.9871\n",
            "Epoch 28/30\n",
            "24/24 [==============================] - 1s 24ms/step - loss: 0.1088 - accuracy: 0.9828\n",
            "Epoch 29/30\n",
            "24/24 [==============================] - 1s 23ms/step - loss: 0.1068 - accuracy: 0.9914\n"
          ]
        }
      ]
    },
    {
      "cell_type": "code",
      "source": [
        "\n",
        "model.save('/content/drive/MyDrive/ml/mental_health_chatbot.h5')\n",
        "\n",
        "# Save the tokenizer\n",
        "with open('/content/drive/MyDrive/ml/tokenizer.pkl', 'wb') as f:\n",
        "    pickle.dump(tokenizer, f)\n",
        "\n",
        "# Save the label encoder\n",
        "with open('/content/drive/MyDrive/ml/label_encoder.pkl', 'wb') as f:\n",
        "    pickle.dump(lbl_enc, f)\n"
      ],
      "metadata": {
        "id": "N51mbIes1qnO"
      },
      "execution_count": 27,
      "outputs": []
    },
    {
      "cell_type": "code",
      "source": [
        "\n",
        "import pickle\n",
        "import json\n",
        "import numpy as np\n",
        "from tensorflow.keras.models import load_model\n",
        "from tensorflow.keras.preprocessing.text import Tokenizer\n",
        "from tensorflow.keras.preprocessing.sequence import pad_sequences\n",
        "\n",
        "# Load the trained model and tokenizer\n",
        "model = load_model('/content/drive/MyDrive/ml/mental_health_chatbot.h5')\n",
        "tokenizer = pickle.load(open('/content/drive/MyDrive/ml/tokenizer.pkl', 'rb'))\n",
        "lbl_enc = pickle.load(open('/content/drive/MyDrive/ml/label_encoder.pkl', 'rb'))\n",
        "\n",
        "def chat():\n",
        "    while True:\n",
        "        # Get user input\n",
        "        input_text = input(\"You: \")\n",
        "\n",
        "        # Preprocess the input text\n",
        "        input_text = input_text.lower()\n",
        "        input_text = tokenizer.texts_to_sequences([input_text])\n",
        "        input_text = pad_sequences(input_text, padding='post')\n",
        "\n",
        "        # Predict the tag\n",
        "        tag = lbl_enc.inverse_transform([np.argmax(model.predict(input_text))])[0]\n",
        "\n",
        "        # Get the response based on the tag\n",
        "        for intent in data['intents']:\n",
        "            if intent['tag'] == tag:\n",
        "                response = random.choice(intent['responses'])\n",
        "                break\n",
        "\n",
        "        # Print the response\n",
        "        print(\"Bot:\", response)\n",
        "\n",
        "        # Check if the user wants to exit\n",
        "        if input_text == 'quit':\n",
        "            break\n",
        "\n",
        "# Start the chat\n",
        "chat()\n"
      ],
      "metadata": {
        "colab": {
          "base_uri": "https://localhost:8080/",
          "height": 401
        },
        "id": "LBoAef215CS1",
        "outputId": "9d00b50d-cc1d-4b8f-b3b8-be7728526524"
      },
      "execution_count": 28,
      "outputs": [
        {
          "output_type": "stream",
          "name": "stdout",
          "text": [
            "You: hi\n",
            "1/1 [==============================] - 2s 2s/step\n",
            "Bot: Hi there. How are you feeling today?\n",
            "You: just great\n",
            "1/1 [==============================] - 2s 2s/step\n",
            "Bot: I want to help you. I really do. But in order for me to help you, you're gonna have to talk to me.\n"
          ]
        },
        {
          "output_type": "error",
          "ename": "ValueError",
          "evalue": "The truth value of an array with more than one element is ambiguous. Use a.any() or a.all()",
          "traceback": [
            "\u001b[0;31m---------------------------------------------------------------------------\u001b[0m",
            "\u001b[0;31mValueError\u001b[0m                                Traceback (most recent call last)",
            "\u001b[0;32m<ipython-input-28-3386ac306fd3>\u001b[0m in \u001b[0;36m<cell line: 40>\u001b[0;34m()\u001b[0m\n\u001b[1;32m     38\u001b[0m \u001b[0;34m\u001b[0m\u001b[0m\n\u001b[1;32m     39\u001b[0m \u001b[0;31m# Start the chat\u001b[0m\u001b[0;34m\u001b[0m\u001b[0;34m\u001b[0m\u001b[0m\n\u001b[0;32m---> 40\u001b[0;31m \u001b[0mchat\u001b[0m\u001b[0;34m(\u001b[0m\u001b[0;34m)\u001b[0m\u001b[0;34m\u001b[0m\u001b[0;34m\u001b[0m\u001b[0m\n\u001b[0m",
            "\u001b[0;32m<ipython-input-28-3386ac306fd3>\u001b[0m in \u001b[0;36mchat\u001b[0;34m()\u001b[0m\n\u001b[1;32m     34\u001b[0m \u001b[0;34m\u001b[0m\u001b[0m\n\u001b[1;32m     35\u001b[0m         \u001b[0;31m# Check if the user wants to exit\u001b[0m\u001b[0;34m\u001b[0m\u001b[0;34m\u001b[0m\u001b[0m\n\u001b[0;32m---> 36\u001b[0;31m         \u001b[0;32mif\u001b[0m \u001b[0minput_text\u001b[0m \u001b[0;34m==\u001b[0m \u001b[0;34m'quit'\u001b[0m\u001b[0;34m:\u001b[0m\u001b[0;34m\u001b[0m\u001b[0;34m\u001b[0m\u001b[0m\n\u001b[0m\u001b[1;32m     37\u001b[0m             \u001b[0;32mbreak\u001b[0m\u001b[0;34m\u001b[0m\u001b[0;34m\u001b[0m\u001b[0m\n\u001b[1;32m     38\u001b[0m \u001b[0;34m\u001b[0m\u001b[0m\n",
            "\u001b[0;31mValueError\u001b[0m: The truth value of an array with more than one element is ambiguous. Use a.any() or a.all()"
          ]
        }
      ]
    },
    {
      "source": [
        "import pickle\n",
        "import json\n",
        "import numpy as np\n",
        "from tensorflow.keras.models import load_model\n",
        "from tensorflow.keras.preprocessing.text import Tokenizer\n",
        "from tensorflow.keras.preprocessing.sequence import pad_sequences\n",
        "import random # Import the random module\n",
        "\n",
        "# Load the trained model and tokenizer\n",
        "model = load_model('/content/drive/MyDrive/ml/mental_health_chatbot.h5')\n",
        "tokenizer = pickle.load(open('/content/drive/MyDrive/ml/tokenizer.pkl', 'rb'))\n",
        "lbl_enc = pickle.load(open('/content/drive/MyDrive/ml/label_encoder.pkl', 'rb'))\n",
        "\n",
        "def chat():\n",
        "    while True:\n",
        "        # Get user input\n",
        "        input_text = input(\"You: \")\n",
        "\n",
        "        # Check if the user wants to exit BEFORE preprocessing\n",
        "        if input_text.lower() == 'quit':\n",
        "            break\n",
        "\n",
        "        # Preprocess the input text\n",
        "        input_text = input_text.lower()\n",
        "        input_text = tokenizer.texts_to_sequences([input_text])\n",
        "        input_text = pad_sequences(input_text, padding='post')\n",
        "\n",
        "        # Predict the tag\n",
        "        tag = lbl_enc.inverse_transform([np.argmax(model.predict(input_text))])[0]\n",
        "\n",
        "        # Get the response based on the tag\n",
        "        for intent in data['intents']:\n",
        "            if intent['tag'] == tag:\n",
        "                response = random.choice(intent['responses'])\n",
        "                break\n",
        "\n",
        "        # Print the response\n",
        "        print(\"Bot:\", response)\n",
        "\n",
        "# Start the chat\n",
        "chat()"
      ],
      "cell_type": "code",
      "metadata": {
        "colab": {
          "base_uri": "https://localhost:8080/",
          "height": 463
        },
        "id": "iP2rwWf967wI",
        "outputId": "0eff8ae6-76cb-4d78-987a-154d0bb01cd8"
      },
      "execution_count": 29,
      "outputs": [
        {
          "output_type": "stream",
          "name": "stdout",
          "text": [
            "You: hi \n",
            "1/1 [==============================] - 2s 2s/step\n",
            "Bot: Hi there. What brings you here today?\n",
            "You: just great\n",
            "1/1 [==============================] - 1s 1s/step\n",
            "Bot: Talking about something really helps. If you're not ready to open up then that's ok. Just know that i'm here for you, whenever you need me.\n"
          ]
        },
        {
          "output_type": "error",
          "ename": "KeyboardInterrupt",
          "evalue": "Interrupted by user",
          "traceback": [
            "\u001b[0;31m---------------------------------------------------------------------------\u001b[0m",
            "\u001b[0;31mKeyboardInterrupt\u001b[0m                         Traceback (most recent call last)",
            "\u001b[0;32m<ipython-input-29-cd2a504927c4>\u001b[0m in \u001b[0;36m<cell line: 41>\u001b[0;34m()\u001b[0m\n\u001b[1;32m     39\u001b[0m \u001b[0;34m\u001b[0m\u001b[0m\n\u001b[1;32m     40\u001b[0m \u001b[0;31m# Start the chat\u001b[0m\u001b[0;34m\u001b[0m\u001b[0;34m\u001b[0m\u001b[0m\n\u001b[0;32m---> 41\u001b[0;31m \u001b[0mchat\u001b[0m\u001b[0;34m(\u001b[0m\u001b[0;34m)\u001b[0m\u001b[0;34m\u001b[0m\u001b[0;34m\u001b[0m\u001b[0m\n\u001b[0m",
            "\u001b[0;32m<ipython-input-29-cd2a504927c4>\u001b[0m in \u001b[0;36mchat\u001b[0;34m()\u001b[0m\n\u001b[1;32m     15\u001b[0m     \u001b[0;32mwhile\u001b[0m \u001b[0;32mTrue\u001b[0m\u001b[0;34m:\u001b[0m\u001b[0;34m\u001b[0m\u001b[0;34m\u001b[0m\u001b[0m\n\u001b[1;32m     16\u001b[0m         \u001b[0;31m# Get user input\u001b[0m\u001b[0;34m\u001b[0m\u001b[0;34m\u001b[0m\u001b[0m\n\u001b[0;32m---> 17\u001b[0;31m         \u001b[0minput_text\u001b[0m \u001b[0;34m=\u001b[0m \u001b[0minput\u001b[0m\u001b[0;34m(\u001b[0m\u001b[0;34m\"You: \"\u001b[0m\u001b[0;34m)\u001b[0m\u001b[0;34m\u001b[0m\u001b[0;34m\u001b[0m\u001b[0m\n\u001b[0m\u001b[1;32m     18\u001b[0m \u001b[0;34m\u001b[0m\u001b[0m\n\u001b[1;32m     19\u001b[0m         \u001b[0;31m# Check if the user wants to exit BEFORE preprocessing\u001b[0m\u001b[0;34m\u001b[0m\u001b[0;34m\u001b[0m\u001b[0m\n",
            "\u001b[0;32m/usr/local/lib/python3.10/dist-packages/ipykernel/kernelbase.py\u001b[0m in \u001b[0;36mraw_input\u001b[0;34m(self, prompt)\u001b[0m\n\u001b[1;32m    849\u001b[0m                 \u001b[0;34m\"raw_input was called, but this frontend does not support input requests.\"\u001b[0m\u001b[0;34m\u001b[0m\u001b[0;34m\u001b[0m\u001b[0m\n\u001b[1;32m    850\u001b[0m             )\n\u001b[0;32m--> 851\u001b[0;31m         return self._input_request(str(prompt),\n\u001b[0m\u001b[1;32m    852\u001b[0m             \u001b[0mself\u001b[0m\u001b[0;34m.\u001b[0m\u001b[0m_parent_ident\u001b[0m\u001b[0;34m,\u001b[0m\u001b[0;34m\u001b[0m\u001b[0;34m\u001b[0m\u001b[0m\n\u001b[1;32m    853\u001b[0m             \u001b[0mself\u001b[0m\u001b[0;34m.\u001b[0m\u001b[0m_parent_header\u001b[0m\u001b[0;34m,\u001b[0m\u001b[0;34m\u001b[0m\u001b[0;34m\u001b[0m\u001b[0m\n",
            "\u001b[0;32m/usr/local/lib/python3.10/dist-packages/ipykernel/kernelbase.py\u001b[0m in \u001b[0;36m_input_request\u001b[0;34m(self, prompt, ident, parent, password)\u001b[0m\n\u001b[1;32m    893\u001b[0m             \u001b[0;32mexcept\u001b[0m \u001b[0mKeyboardInterrupt\u001b[0m\u001b[0;34m:\u001b[0m\u001b[0;34m\u001b[0m\u001b[0;34m\u001b[0m\u001b[0m\n\u001b[1;32m    894\u001b[0m                 \u001b[0;31m# re-raise KeyboardInterrupt, to truncate traceback\u001b[0m\u001b[0;34m\u001b[0m\u001b[0;34m\u001b[0m\u001b[0m\n\u001b[0;32m--> 895\u001b[0;31m                 \u001b[0;32mraise\u001b[0m \u001b[0mKeyboardInterrupt\u001b[0m\u001b[0;34m(\u001b[0m\u001b[0;34m\"Interrupted by user\"\u001b[0m\u001b[0;34m)\u001b[0m \u001b[0;32mfrom\u001b[0m \u001b[0;32mNone\u001b[0m\u001b[0;34m\u001b[0m\u001b[0;34m\u001b[0m\u001b[0m\n\u001b[0m\u001b[1;32m    896\u001b[0m             \u001b[0;32mexcept\u001b[0m \u001b[0mException\u001b[0m \u001b[0;32mas\u001b[0m \u001b[0me\u001b[0m\u001b[0;34m:\u001b[0m\u001b[0;34m\u001b[0m\u001b[0;34m\u001b[0m\u001b[0m\n\u001b[1;32m    897\u001b[0m                 \u001b[0mself\u001b[0m\u001b[0;34m.\u001b[0m\u001b[0mlog\u001b[0m\u001b[0;34m.\u001b[0m\u001b[0mwarning\u001b[0m\u001b[0;34m(\u001b[0m\u001b[0;34m\"Invalid Message:\"\u001b[0m\u001b[0;34m,\u001b[0m \u001b[0mexc_info\u001b[0m\u001b[0;34m=\u001b[0m\u001b[0;32mTrue\u001b[0m\u001b[0;34m)\u001b[0m\u001b[0;34m\u001b[0m\u001b[0;34m\u001b[0m\u001b[0m\n",
            "\u001b[0;31mKeyboardInterrupt\u001b[0m: Interrupted by user"
          ]
        }
      ]
    },
    {
      "cell_type": "markdown",
      "source": [
        "#  Model Testing\n"
      ],
      "metadata": {
        "id": "meTfy5N1nc0U"
      }
    },
    {
      "cell_type": "markdown",
      "source": [
        "#### First we should apply some text preprocessing on the pattern that is passed to the function. Next we convert the text to vector of numbers and give it to model for prediction its tag; Finally based on the tag, we choose a answer(response) randomly and return it.\n",
        "\n"
      ],
      "metadata": {
        "id": "dAEDwv5Onc0U"
      }
    },
    {
      "cell_type": "code",
      "source": [
        "import re\n",
        "import random\n",
        "\n",
        "def generate_answer():\n",
        "    while True:\n",
        "        pattern=input()\n",
        "        text = []\n",
        "        txt = re.sub('[^a-zA-Z\\']', ' ', pattern)\n",
        "        txt = txt.lower()\n",
        "        txt = txt.split()\n",
        "        txt = \" \".join(txt)\n",
        "        text.append(txt)\n",
        "\n",
        "        x_test = tokenizer.texts_to_sequences(text)\n",
        "        x_test = np.array(x_test).squeeze()\n",
        "        x_test = pad_sequences([x_test], padding='post', maxlen=X.shape[1])\n",
        "        y_pred = model.predict(x_test)\n",
        "        y_pred = y_pred.argmax()\n",
        "        tag = lbl_enc.inverse_transform([y_pred])[0]\n",
        "        responses = df[df['tag'] == tag]['responses'].values[0]\n",
        "        print(\"model: {}\".format(random.choice(responses)))\n",
        "        if pattern=='quite':\n",
        "            break;"
      ],
      "metadata": {
        "execution": {
          "iopub.status.busy": "2024-02-22T21:57:24.448543Z",
          "iopub.execute_input": "2024-02-22T21:57:24.448853Z",
          "iopub.status.idle": "2024-02-22T21:57:24.456989Z",
          "shell.execute_reply.started": "2024-02-22T21:57:24.448825Z",
          "shell.execute_reply": "2024-02-22T21:57:24.455856Z"
        },
        "trusted": true,
        "id": "dBQUYLPqnc0V"
      },
      "execution_count": 24,
      "outputs": []
    },
    {
      "cell_type": "code",
      "source": [
        "generate_answer()"
      ],
      "metadata": {
        "execution": {
          "iopub.status.busy": "2024-02-22T21:57:24.458188Z",
          "iopub.execute_input": "2024-02-22T21:57:24.458448Z",
          "iopub.status.idle": "2024-02-22T21:57:33.832112Z",
          "shell.execute_reply.started": "2024-02-22T21:57:24.458424Z",
          "shell.execute_reply": "2024-02-22T21:57:33.831174Z"
        },
        "trusted": true,
        "id": "h-HH2o0znc0V",
        "outputId": "dfec4382-f4da-4c77-deb5-15b8420d9c36",
        "colab": {
          "base_uri": "https://localhost:8080/",
          "height": 460
        }
      },
      "execution_count": 25,
      "outputs": [
        {
          "name": "stdout",
          "output_type": "stream",
          "text": [
            "hello\n"
          ]
        },
        {
          "output_type": "error",
          "ename": "ValueError",
          "evalue": "`sequences` must be a list of iterables. Found non-iterable: 150",
          "traceback": [
            "\u001b[0;31m---------------------------------------------------------------------------\u001b[0m",
            "\u001b[0;31mTypeError\u001b[0m                                 Traceback (most recent call last)",
            "\u001b[0;32m/usr/local/lib/python3.10/dist-packages/keras/src/utils/data_utils.py\u001b[0m in \u001b[0;36mpad_sequences\u001b[0;34m(sequences, maxlen, dtype, padding, truncating, value)\u001b[0m\n\u001b[1;32m   1096\u001b[0m         \u001b[0;32mtry\u001b[0m\u001b[0;34m:\u001b[0m\u001b[0;34m\u001b[0m\u001b[0;34m\u001b[0m\u001b[0m\n\u001b[0;32m-> 1097\u001b[0;31m             \u001b[0mlengths\u001b[0m\u001b[0;34m.\u001b[0m\u001b[0mappend\u001b[0m\u001b[0;34m(\u001b[0m\u001b[0mlen\u001b[0m\u001b[0;34m(\u001b[0m\u001b[0mx\u001b[0m\u001b[0;34m)\u001b[0m\u001b[0;34m)\u001b[0m\u001b[0;34m\u001b[0m\u001b[0;34m\u001b[0m\u001b[0m\n\u001b[0m\u001b[1;32m   1098\u001b[0m             \u001b[0;32mif\u001b[0m \u001b[0mflag\u001b[0m \u001b[0;32mand\u001b[0m \u001b[0mlen\u001b[0m\u001b[0;34m(\u001b[0m\u001b[0mx\u001b[0m\u001b[0;34m)\u001b[0m\u001b[0;34m:\u001b[0m\u001b[0;34m\u001b[0m\u001b[0;34m\u001b[0m\u001b[0m\n",
            "\u001b[0;31mTypeError\u001b[0m: len() of unsized object",
            "\nThe above exception was the direct cause of the following exception:\n",
            "\u001b[0;31mValueError\u001b[0m                                Traceback (most recent call last)",
            "\u001b[0;32m<ipython-input-25-f8b55bc7b316>\u001b[0m in \u001b[0;36m<cell line: 1>\u001b[0;34m()\u001b[0m\n\u001b[0;32m----> 1\u001b[0;31m \u001b[0mgenerate_answer\u001b[0m\u001b[0;34m(\u001b[0m\u001b[0;34m)\u001b[0m\u001b[0;34m\u001b[0m\u001b[0;34m\u001b[0m\u001b[0m\n\u001b[0m",
            "\u001b[0;32m<ipython-input-24-37b50ad3ac25>\u001b[0m in \u001b[0;36mgenerate_answer\u001b[0;34m()\u001b[0m\n\u001b[1;32m     14\u001b[0m         \u001b[0mx_test\u001b[0m \u001b[0;34m=\u001b[0m \u001b[0mtokenizer\u001b[0m\u001b[0;34m.\u001b[0m\u001b[0mtexts_to_sequences\u001b[0m\u001b[0;34m(\u001b[0m\u001b[0mtext\u001b[0m\u001b[0;34m)\u001b[0m\u001b[0;34m\u001b[0m\u001b[0;34m\u001b[0m\u001b[0m\n\u001b[1;32m     15\u001b[0m         \u001b[0mx_test\u001b[0m \u001b[0;34m=\u001b[0m \u001b[0mnp\u001b[0m\u001b[0;34m.\u001b[0m\u001b[0marray\u001b[0m\u001b[0;34m(\u001b[0m\u001b[0mx_test\u001b[0m\u001b[0;34m)\u001b[0m\u001b[0;34m.\u001b[0m\u001b[0msqueeze\u001b[0m\u001b[0;34m(\u001b[0m\u001b[0;34m)\u001b[0m\u001b[0;34m\u001b[0m\u001b[0;34m\u001b[0m\u001b[0m\n\u001b[0;32m---> 16\u001b[0;31m         \u001b[0mx_test\u001b[0m \u001b[0;34m=\u001b[0m \u001b[0mpad_sequences\u001b[0m\u001b[0;34m(\u001b[0m\u001b[0;34m[\u001b[0m\u001b[0mx_test\u001b[0m\u001b[0;34m]\u001b[0m\u001b[0;34m,\u001b[0m \u001b[0mpadding\u001b[0m\u001b[0;34m=\u001b[0m\u001b[0;34m'post'\u001b[0m\u001b[0;34m,\u001b[0m \u001b[0mmaxlen\u001b[0m\u001b[0;34m=\u001b[0m\u001b[0mX\u001b[0m\u001b[0;34m.\u001b[0m\u001b[0mshape\u001b[0m\u001b[0;34m[\u001b[0m\u001b[0;36m1\u001b[0m\u001b[0;34m]\u001b[0m\u001b[0;34m)\u001b[0m\u001b[0;34m\u001b[0m\u001b[0;34m\u001b[0m\u001b[0m\n\u001b[0m\u001b[1;32m     17\u001b[0m         \u001b[0my_pred\u001b[0m \u001b[0;34m=\u001b[0m \u001b[0mmodel\u001b[0m\u001b[0;34m.\u001b[0m\u001b[0mpredict\u001b[0m\u001b[0;34m(\u001b[0m\u001b[0mx_test\u001b[0m\u001b[0;34m)\u001b[0m\u001b[0;34m\u001b[0m\u001b[0;34m\u001b[0m\u001b[0m\n\u001b[1;32m     18\u001b[0m         \u001b[0my_pred\u001b[0m \u001b[0;34m=\u001b[0m \u001b[0my_pred\u001b[0m\u001b[0;34m.\u001b[0m\u001b[0margmax\u001b[0m\u001b[0;34m(\u001b[0m\u001b[0;34m)\u001b[0m\u001b[0;34m\u001b[0m\u001b[0;34m\u001b[0m\u001b[0m\n",
            "\u001b[0;32m/usr/local/lib/python3.10/dist-packages/keras/src/utils/data_utils.py\u001b[0m in \u001b[0;36mpad_sequences\u001b[0;34m(sequences, maxlen, dtype, padding, truncating, value)\u001b[0m\n\u001b[1;32m   1100\u001b[0m                 \u001b[0mflag\u001b[0m \u001b[0;34m=\u001b[0m \u001b[0;32mFalse\u001b[0m\u001b[0;34m\u001b[0m\u001b[0;34m\u001b[0m\u001b[0m\n\u001b[1;32m   1101\u001b[0m         \u001b[0;32mexcept\u001b[0m \u001b[0mTypeError\u001b[0m \u001b[0;32mas\u001b[0m \u001b[0me\u001b[0m\u001b[0;34m:\u001b[0m\u001b[0;34m\u001b[0m\u001b[0;34m\u001b[0m\u001b[0m\n\u001b[0;32m-> 1102\u001b[0;31m             raise ValueError(\n\u001b[0m\u001b[1;32m   1103\u001b[0m                 \u001b[0;34m\"`sequences` must be a list of iterables. \"\u001b[0m\u001b[0;34m\u001b[0m\u001b[0;34m\u001b[0m\u001b[0m\n\u001b[1;32m   1104\u001b[0m                 \u001b[0;34mf\"Found non-iterable: {str(x)}\"\u001b[0m\u001b[0;34m\u001b[0m\u001b[0;34m\u001b[0m\u001b[0m\n",
            "\u001b[0;31mValueError\u001b[0m: `sequences` must be a list of iterables. Found non-iterable: 150"
          ]
        }
      ]
    },
    {
      "cell_type": "code",
      "source": [
        "generate_answer()"
      ],
      "metadata": {
        "execution": {
          "iopub.status.busy": "2024-02-22T21:57:33.833118Z",
          "iopub.execute_input": "2024-02-22T21:57:33.833404Z",
          "iopub.status.idle": "2024-02-22T21:57:38.560657Z",
          "shell.execute_reply.started": "2024-02-22T21:57:33.833378Z",
          "shell.execute_reply": "2024-02-22T21:57:38.559347Z"
        },
        "trusted": true,
        "id": "HBgzu1vjnc0V",
        "outputId": "5877cc22-2481-40b3-a6ed-a375c77bf5c6"
      },
      "execution_count": null,
      "outputs": [
        {
          "output_type": "stream",
          "name": "stdin",
          "text": " hi\n"
        },
        {
          "traceback": [
            "\u001b[0;31m---------------------------------------------------------------------------\u001b[0m",
            "\u001b[0;31mTypeError\u001b[0m                                 Traceback (most recent call last)",
            "File \u001b[0;32m/opt/conda/lib/python3.10/site-packages/keras/utils/data_utils.py:1094\u001b[0m, in \u001b[0;36mpad_sequences\u001b[0;34m(sequences, maxlen, dtype, padding, truncating, value)\u001b[0m\n\u001b[1;32m   1093\u001b[0m \u001b[38;5;28;01mtry\u001b[39;00m:\n\u001b[0;32m-> 1094\u001b[0m     lengths\u001b[38;5;241m.\u001b[39mappend(\u001b[38;5;28;43mlen\u001b[39;49m\u001b[43m(\u001b[49m\u001b[43mx\u001b[49m\u001b[43m)\u001b[49m)\n\u001b[1;32m   1095\u001b[0m     \u001b[38;5;28;01mif\u001b[39;00m flag \u001b[38;5;129;01mand\u001b[39;00m \u001b[38;5;28mlen\u001b[39m(x):\n",
            "\u001b[0;31mTypeError\u001b[0m: len() of unsized object",
            "\nThe above exception was the direct cause of the following exception:\n",
            "\u001b[0;31mValueError\u001b[0m                                Traceback (most recent call last)",
            "Cell \u001b[0;32mIn[16], line 1\u001b[0m\n\u001b[0;32m----> 1\u001b[0m \u001b[43mgenerate_answer\u001b[49m\u001b[43m(\u001b[49m\u001b[43m)\u001b[49m\n",
            "Cell \u001b[0;32mIn[14], line 16\u001b[0m, in \u001b[0;36mgenerate_answer\u001b[0;34m()\u001b[0m\n\u001b[1;32m     14\u001b[0m x_test \u001b[38;5;241m=\u001b[39m tokenizer\u001b[38;5;241m.\u001b[39mtexts_to_sequences(text)\n\u001b[1;32m     15\u001b[0m x_test \u001b[38;5;241m=\u001b[39m np\u001b[38;5;241m.\u001b[39marray(x_test)\u001b[38;5;241m.\u001b[39msqueeze()\n\u001b[0;32m---> 16\u001b[0m x_test \u001b[38;5;241m=\u001b[39m \u001b[43mpad_sequences\u001b[49m\u001b[43m(\u001b[49m\u001b[43m[\u001b[49m\u001b[43mx_test\u001b[49m\u001b[43m]\u001b[49m\u001b[43m,\u001b[49m\u001b[43m \u001b[49m\u001b[43mpadding\u001b[49m\u001b[38;5;241;43m=\u001b[39;49m\u001b[38;5;124;43m'\u001b[39;49m\u001b[38;5;124;43mpost\u001b[39;49m\u001b[38;5;124;43m'\u001b[39;49m\u001b[43m,\u001b[49m\u001b[43m \u001b[49m\u001b[43mmaxlen\u001b[49m\u001b[38;5;241;43m=\u001b[39;49m\u001b[43mX\u001b[49m\u001b[38;5;241;43m.\u001b[39;49m\u001b[43mshape\u001b[49m\u001b[43m[\u001b[49m\u001b[38;5;241;43m1\u001b[39;49m\u001b[43m]\u001b[49m\u001b[43m)\u001b[49m\n\u001b[1;32m     17\u001b[0m y_pred \u001b[38;5;241m=\u001b[39m model\u001b[38;5;241m.\u001b[39mpredict(x_test)\n\u001b[1;32m     18\u001b[0m y_pred \u001b[38;5;241m=\u001b[39m y_pred\u001b[38;5;241m.\u001b[39margmax()\n",
            "File \u001b[0;32m/opt/conda/lib/python3.10/site-packages/keras/utils/data_utils.py:1099\u001b[0m, in \u001b[0;36mpad_sequences\u001b[0;34m(sequences, maxlen, dtype, padding, truncating, value)\u001b[0m\n\u001b[1;32m   1097\u001b[0m             flag \u001b[38;5;241m=\u001b[39m \u001b[38;5;28;01mFalse\u001b[39;00m\n\u001b[1;32m   1098\u001b[0m     \u001b[38;5;28;01mexcept\u001b[39;00m \u001b[38;5;167;01mTypeError\u001b[39;00m \u001b[38;5;28;01mas\u001b[39;00m e:\n\u001b[0;32m-> 1099\u001b[0m         \u001b[38;5;28;01mraise\u001b[39;00m \u001b[38;5;167;01mValueError\u001b[39;00m(\n\u001b[1;32m   1100\u001b[0m             \u001b[38;5;124m\"\u001b[39m\u001b[38;5;124m`sequences` must be a list of iterables. \u001b[39m\u001b[38;5;124m\"\u001b[39m\n\u001b[1;32m   1101\u001b[0m             \u001b[38;5;124mf\u001b[39m\u001b[38;5;124m\"\u001b[39m\u001b[38;5;124mFound non-iterable: \u001b[39m\u001b[38;5;132;01m{\u001b[39;00m\u001b[38;5;28mstr\u001b[39m(x)\u001b[38;5;132;01m}\u001b[39;00m\u001b[38;5;124m\"\u001b[39m\n\u001b[1;32m   1102\u001b[0m         ) \u001b[38;5;28;01mfrom\u001b[39;00m \u001b[38;5;21;01me\u001b[39;00m\n\u001b[1;32m   1104\u001b[0m \u001b[38;5;28;01mif\u001b[39;00m maxlen \u001b[38;5;129;01mis\u001b[39;00m \u001b[38;5;28;01mNone\u001b[39;00m:\n\u001b[1;32m   1105\u001b[0m     maxlen \u001b[38;5;241m=\u001b[39m np\u001b[38;5;241m.\u001b[39mmax(lengths)\n",
            "\u001b[0;31mValueError\u001b[0m: `sequences` must be a list of iterables. Found non-iterable: 95"
          ],
          "ename": "ValueError",
          "evalue": "`sequences` must be a list of iterables. Found non-iterable: 95",
          "output_type": "error"
        }
      ]
    },
    {
      "cell_type": "code",
      "source": [
        "import json\n",
        "import numpy as np\n",
        "from tensorflow import keras\n",
        "from sklearn.preprocessing import LabelEncoder\n",
        "import random\n",
        "import pickle\n",
        "\n",
        "with open(\"/kaggle/input/oumayma/oumayma.json\") as file:\n",
        "    data = json.load(file)\n",
        "\n",
        "\n",
        "def chat():\n",
        "    # load trained model\n",
        "    model = keras.models.load_model('chat_model')\n",
        "\n",
        "    # load tokenizer object\n",
        "    with open('tokenizer.pickle', 'rb') as handle:\n",
        "        tokenizer = pickle.load(handle)\n",
        "\n",
        "    # load label encoder object\n",
        "    with open('label_encoder.pickle', 'rb') as enc:\n",
        "        lbl_encoder = pickle.load(enc)\n",
        "\n",
        "    # parameters\n",
        "    max_len = 20\n",
        "\n",
        "    while True:\n",
        "        print(\"User: \" ,end=\"\")\n",
        "        inp = input()\n",
        "        if inp.lower() == \"quit\":\n",
        "            break\n",
        "\n",
        "        result = model.predict(keras.preprocessing.sequence.pad_sequences(tokenizer.texts_to_sequences([inp]),\n",
        "                                             truncating='post', maxlen=max_len))\n",
        "        tag = lbl_encoder.inverse_transform([np.argmax(result)])\n",
        "\n",
        "        for i in data['intents']:\n",
        "            if i['tag'] == tag:\n",
        "                print(\"ChatBot:\" , np.random.choice(i['responses']))\n",
        "\n",
        "print(\"Start messaging with the Chatbot (type quit to stop)!\")\n",
        "\n",
        "# call the function to start chat\n",
        "# chat()"
      ],
      "metadata": {
        "id": "xD5yR70tnc0V"
      },
      "execution_count": null,
      "outputs": []
    }
  ]
}